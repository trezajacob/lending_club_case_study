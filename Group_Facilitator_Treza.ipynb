{
 "cells": [
  {
   "cell_type": "markdown",
   "id": "af362dd4",
   "metadata": {},
   "source": [
    "# Lending Club Default Analysis\n",
    "The analysis is divided into four main parts:\n",
    "\n",
    "1.Data understanding\n",
    "2.Data cleaning (cleaning missing values, removing redundant columns etc.)\n",
    "3.Data Analysis\n",
    "4.Driving factors behind loan default\n"
   ]
  },
  {
   "cell_type": "code",
   "execution_count": 1,
   "id": "f39cd847",
   "metadata": {},
   "outputs": [],
   "source": [
    "import pandas as pd,seaborn as sns,matplotlib as plt, numpy as np"
   ]
  },
  {
   "cell_type": "code",
   "execution_count": 2,
   "id": "a9a28198",
   "metadata": {},
   "outputs": [],
   "source": [
    "import matplotlib.pyplot as plt"
   ]
  },
  {
   "cell_type": "code",
   "execution_count": 3,
   "id": "26c04fa2",
   "metadata": {},
   "outputs": [],
   "source": [
    "import warnings\n",
    "warnings.filterwarnings('ignore')"
   ]
  },
  {
   "cell_type": "code",
   "execution_count": 82,
   "id": "b9cc6e94",
   "metadata": {},
   "outputs": [],
   "source": [
    "df=pd.read_csv(\"loan.csv\",sep=',')"
   ]
  },
  {
   "cell_type": "markdown",
   "id": "067eb560",
   "metadata": {},
   "source": [
    "# 1.Data Understanding"
   ]
  },
  {
   "cell_type": "code",
   "execution_count": 5,
   "id": "eb0ab64c",
   "metadata": {},
   "outputs": [
    {
     "name": "stdout",
     "output_type": "stream",
     "text": [
      "<class 'pandas.core.frame.DataFrame'>\n",
      "RangeIndex: 39717 entries, 0 to 39716\n",
      "Columns: 111 entries, id to total_il_high_credit_limit\n",
      "dtypes: float64(74), int64(13), object(24)\n",
      "memory usage: 33.6+ MB\n"
     ]
    }
   ],
   "source": [
    "df.info()"
   ]
  },
  {
   "cell_type": "code",
   "execution_count": 36,
   "id": "4d334d81",
   "metadata": {},
   "outputs": [
    {
     "data": {
      "text/html": [
       "<div>\n",
       "<style scoped>\n",
       "    .dataframe tbody tr th:only-of-type {\n",
       "        vertical-align: middle;\n",
       "    }\n",
       "\n",
       "    .dataframe tbody tr th {\n",
       "        vertical-align: top;\n",
       "    }\n",
       "\n",
       "    .dataframe thead th {\n",
       "        text-align: right;\n",
       "    }\n",
       "</style>\n",
       "<table border=\"1\" class=\"dataframe\">\n",
       "  <thead>\n",
       "    <tr style=\"text-align: right;\">\n",
       "      <th></th>\n",
       "      <th>id</th>\n",
       "      <th>member_id</th>\n",
       "      <th>loan_amnt</th>\n",
       "      <th>funded_amnt</th>\n",
       "      <th>funded_amnt_inv</th>\n",
       "      <th>term</th>\n",
       "      <th>int_rate</th>\n",
       "      <th>installment</th>\n",
       "      <th>grade</th>\n",
       "      <th>sub_grade</th>\n",
       "      <th>...</th>\n",
       "      <th>num_tl_90g_dpd_24m</th>\n",
       "      <th>num_tl_op_past_12m</th>\n",
       "      <th>pct_tl_nvr_dlq</th>\n",
       "      <th>percent_bc_gt_75</th>\n",
       "      <th>pub_rec_bankruptcies</th>\n",
       "      <th>tax_liens</th>\n",
       "      <th>tot_hi_cred_lim</th>\n",
       "      <th>total_bal_ex_mort</th>\n",
       "      <th>total_bc_limit</th>\n",
       "      <th>total_il_high_credit_limit</th>\n",
       "    </tr>\n",
       "  </thead>\n",
       "  <tbody>\n",
       "    <tr>\n",
       "      <th>0</th>\n",
       "      <td>1077501</td>\n",
       "      <td>1296599</td>\n",
       "      <td>5000</td>\n",
       "      <td>5000</td>\n",
       "      <td>4975.0</td>\n",
       "      <td>36 months</td>\n",
       "      <td>10.65%</td>\n",
       "      <td>162.87</td>\n",
       "      <td>B</td>\n",
       "      <td>B2</td>\n",
       "      <td>...</td>\n",
       "      <td>NaN</td>\n",
       "      <td>NaN</td>\n",
       "      <td>NaN</td>\n",
       "      <td>NaN</td>\n",
       "      <td>0.0</td>\n",
       "      <td>0.0</td>\n",
       "      <td>NaN</td>\n",
       "      <td>NaN</td>\n",
       "      <td>NaN</td>\n",
       "      <td>NaN</td>\n",
       "    </tr>\n",
       "    <tr>\n",
       "      <th>1</th>\n",
       "      <td>1077430</td>\n",
       "      <td>1314167</td>\n",
       "      <td>2500</td>\n",
       "      <td>2500</td>\n",
       "      <td>2500.0</td>\n",
       "      <td>60 months</td>\n",
       "      <td>15.27%</td>\n",
       "      <td>59.83</td>\n",
       "      <td>C</td>\n",
       "      <td>C4</td>\n",
       "      <td>...</td>\n",
       "      <td>NaN</td>\n",
       "      <td>NaN</td>\n",
       "      <td>NaN</td>\n",
       "      <td>NaN</td>\n",
       "      <td>0.0</td>\n",
       "      <td>0.0</td>\n",
       "      <td>NaN</td>\n",
       "      <td>NaN</td>\n",
       "      <td>NaN</td>\n",
       "      <td>NaN</td>\n",
       "    </tr>\n",
       "    <tr>\n",
       "      <th>2</th>\n",
       "      <td>1077175</td>\n",
       "      <td>1313524</td>\n",
       "      <td>2400</td>\n",
       "      <td>2400</td>\n",
       "      <td>2400.0</td>\n",
       "      <td>36 months</td>\n",
       "      <td>15.96%</td>\n",
       "      <td>84.33</td>\n",
       "      <td>C</td>\n",
       "      <td>C5</td>\n",
       "      <td>...</td>\n",
       "      <td>NaN</td>\n",
       "      <td>NaN</td>\n",
       "      <td>NaN</td>\n",
       "      <td>NaN</td>\n",
       "      <td>0.0</td>\n",
       "      <td>0.0</td>\n",
       "      <td>NaN</td>\n",
       "      <td>NaN</td>\n",
       "      <td>NaN</td>\n",
       "      <td>NaN</td>\n",
       "    </tr>\n",
       "    <tr>\n",
       "      <th>3</th>\n",
       "      <td>1076863</td>\n",
       "      <td>1277178</td>\n",
       "      <td>10000</td>\n",
       "      <td>10000</td>\n",
       "      <td>10000.0</td>\n",
       "      <td>36 months</td>\n",
       "      <td>13.49%</td>\n",
       "      <td>339.31</td>\n",
       "      <td>C</td>\n",
       "      <td>C1</td>\n",
       "      <td>...</td>\n",
       "      <td>NaN</td>\n",
       "      <td>NaN</td>\n",
       "      <td>NaN</td>\n",
       "      <td>NaN</td>\n",
       "      <td>0.0</td>\n",
       "      <td>0.0</td>\n",
       "      <td>NaN</td>\n",
       "      <td>NaN</td>\n",
       "      <td>NaN</td>\n",
       "      <td>NaN</td>\n",
       "    </tr>\n",
       "    <tr>\n",
       "      <th>4</th>\n",
       "      <td>1075358</td>\n",
       "      <td>1311748</td>\n",
       "      <td>3000</td>\n",
       "      <td>3000</td>\n",
       "      <td>3000.0</td>\n",
       "      <td>60 months</td>\n",
       "      <td>12.69%</td>\n",
       "      <td>67.79</td>\n",
       "      <td>B</td>\n",
       "      <td>B5</td>\n",
       "      <td>...</td>\n",
       "      <td>NaN</td>\n",
       "      <td>NaN</td>\n",
       "      <td>NaN</td>\n",
       "      <td>NaN</td>\n",
       "      <td>0.0</td>\n",
       "      <td>0.0</td>\n",
       "      <td>NaN</td>\n",
       "      <td>NaN</td>\n",
       "      <td>NaN</td>\n",
       "      <td>NaN</td>\n",
       "    </tr>\n",
       "  </tbody>\n",
       "</table>\n",
       "<p>5 rows × 111 columns</p>\n",
       "</div>"
      ],
      "text/plain": [
       "        id  member_id  loan_amnt  funded_amnt  funded_amnt_inv        term  \\\n",
       "0  1077501    1296599       5000         5000           4975.0   36 months   \n",
       "1  1077430    1314167       2500         2500           2500.0   60 months   \n",
       "2  1077175    1313524       2400         2400           2400.0   36 months   \n",
       "3  1076863    1277178      10000        10000          10000.0   36 months   \n",
       "4  1075358    1311748       3000         3000           3000.0   60 months   \n",
       "\n",
       "  int_rate  installment grade sub_grade  ... num_tl_90g_dpd_24m  \\\n",
       "0   10.65%       162.87     B        B2  ...                NaN   \n",
       "1   15.27%        59.83     C        C4  ...                NaN   \n",
       "2   15.96%        84.33     C        C5  ...                NaN   \n",
       "3   13.49%       339.31     C        C1  ...                NaN   \n",
       "4   12.69%        67.79     B        B5  ...                NaN   \n",
       "\n",
       "  num_tl_op_past_12m pct_tl_nvr_dlq  percent_bc_gt_75 pub_rec_bankruptcies  \\\n",
       "0                NaN            NaN               NaN                  0.0   \n",
       "1                NaN            NaN               NaN                  0.0   \n",
       "2                NaN            NaN               NaN                  0.0   \n",
       "3                NaN            NaN               NaN                  0.0   \n",
       "4                NaN            NaN               NaN                  0.0   \n",
       "\n",
       "  tax_liens tot_hi_cred_lim total_bal_ex_mort total_bc_limit  \\\n",
       "0       0.0             NaN               NaN            NaN   \n",
       "1       0.0             NaN               NaN            NaN   \n",
       "2       0.0             NaN               NaN            NaN   \n",
       "3       0.0             NaN               NaN            NaN   \n",
       "4       0.0             NaN               NaN            NaN   \n",
       "\n",
       "  total_il_high_credit_limit  \n",
       "0                        NaN  \n",
       "1                        NaN  \n",
       "2                        NaN  \n",
       "3                        NaN  \n",
       "4                        NaN  \n",
       "\n",
       "[5 rows x 111 columns]"
      ]
     },
     "execution_count": 36,
     "metadata": {},
     "output_type": "execute_result"
    }
   ],
   "source": [
    "# let's look at the first few rows of the df\n",
    "df.head()"
   ]
  },
  {
   "cell_type": "markdown",
   "id": "9b7a6ecc",
   "metadata": {},
   "source": [
    "The target variable, which we want to compare across the independent variables, is loan status. The strategy is to figure out compare the average default rates across various independent variables and identify the ones that affect default rate the most."
   ]
  },
  {
   "cell_type": "code",
   "execution_count": 21,
   "id": "d41a42c7",
   "metadata": {},
   "outputs": [
    {
     "name": "stdout",
     "output_type": "stream",
     "text": [
      "(39717, 111)\n"
     ]
    }
   ],
   "source": [
    "print(df.shape)"
   ]
  },
  {
   "cell_type": "markdown",
   "id": "3f4bb55b",
   "metadata": {},
   "source": [
    "# 2.Data Cleaning"
   ]
  },
  {
   "cell_type": "markdown",
   "id": "9b051d9a",
   "metadata": {},
   "source": [
    "# Remove columns having missing values for 75% of records"
   ]
  },
  {
   "cell_type": "markdown",
   "id": "4acc6e73",
   "metadata": {},
   "source": [
    "Creating function to drop columns with missing values based on percentage"
   ]
  },
  {
   "cell_type": "code",
   "execution_count": 83,
   "id": "6d55de91",
   "metadata": {},
   "outputs": [],
   "source": [
    "\n",
    "def drop_columns_with_missing_values(df, threshold=.75):\n",
    "    total_rows = len(df)\n",
    "    missing_threshold = threshold * total_rows\n",
    "\n",
    "    # Calculate the number of missing values in each column\n",
    "    missing_counts = df.isnull().sum()\n",
    "\n",
    "    # Get the column names where the number of missing values is greater than the threshold\n",
    "    columns_to_drop = missing_counts[missing_counts > missing_threshold].index.tolist()\n",
    "\n",
    "    # Drop the columns from the DataFrame\n",
    "    df_dropped = df.drop(columns=columns_to_drop)\n",
    "\n",
    "    return df_dropped,columns_to_drop"
   ]
  },
  {
   "cell_type": "code",
   "execution_count": 84,
   "id": "d8b99192",
   "metadata": {},
   "outputs": [],
   "source": [
    "    df_cleaned,dropped_columns = drop_columns_with_missing_values(df, threshold=.75)"
   ]
  },
  {
   "cell_type": "code",
   "execution_count": 8,
   "id": "d3b6c48f",
   "metadata": {},
   "outputs": [
    {
     "name": "stdout",
     "output_type": "stream",
     "text": [
      "['mths_since_last_record', 'next_pymnt_d', 'mths_since_last_major_derog', 'annual_inc_joint', 'dti_joint', 'verification_status_joint', 'tot_coll_amt', 'tot_cur_bal', 'open_acc_6m', 'open_il_6m', 'open_il_12m', 'open_il_24m', 'mths_since_rcnt_il', 'total_bal_il', 'il_util', 'open_rv_12m', 'open_rv_24m', 'max_bal_bc', 'all_util', 'total_rev_hi_lim', 'inq_fi', 'total_cu_tl', 'inq_last_12m', 'acc_open_past_24mths', 'avg_cur_bal', 'bc_open_to_buy', 'bc_util', 'mo_sin_old_il_acct', 'mo_sin_old_rev_tl_op', 'mo_sin_rcnt_rev_tl_op', 'mo_sin_rcnt_tl', 'mort_acc', 'mths_since_recent_bc', 'mths_since_recent_bc_dlq', 'mths_since_recent_inq', 'mths_since_recent_revol_delinq', 'num_accts_ever_120_pd', 'num_actv_bc_tl', 'num_actv_rev_tl', 'num_bc_sats', 'num_bc_tl', 'num_il_tl', 'num_op_rev_tl', 'num_rev_accts', 'num_rev_tl_bal_gt_0', 'num_sats', 'num_tl_120dpd_2m', 'num_tl_30dpd', 'num_tl_90g_dpd_24m', 'num_tl_op_past_12m', 'pct_tl_nvr_dlq', 'percent_bc_gt_75', 'tot_hi_cred_lim', 'total_bal_ex_mort', 'total_bc_limit', 'total_il_high_credit_limit']\n"
     ]
    }
   ],
   "source": [
    "print(dropped_columns)"
   ]
  },
  {
   "cell_type": "code",
   "execution_count": 9,
   "id": "40b49b8f",
   "metadata": {},
   "outputs": [
    {
     "name": "stdout",
     "output_type": "stream",
     "text": [
      "(39717, 55)\n"
     ]
    }
   ],
   "source": [
    "print(df_cleaned.shape)"
   ]
  },
  {
   "cell_type": "markdown",
   "id": "0327ce44",
   "metadata": {},
   "source": [
    "Reduced columns from 111 to 55 columns"
   ]
  },
  {
   "cell_type": "code",
   "execution_count": 320,
   "id": "8b86652e",
   "metadata": {},
   "outputs": [
    {
     "data": {
      "text/plain": [
       "id                             0.000000\n",
       "member_id                      0.000000\n",
       "loan_amnt                      0.000000\n",
       "funded_amnt                    0.000000\n",
       "funded_amnt_inv                0.000000\n",
       "term                           0.000000\n",
       "int_rate                       0.000000\n",
       "installment                    0.000000\n",
       "grade                          0.000000\n",
       "sub_grade                      0.000000\n",
       "emp_title                      6.191303\n",
       "emp_length                     2.706650\n",
       "home_ownership                 0.000000\n",
       "annual_inc                     0.000000\n",
       "verification_status            0.000000\n",
       "issue_d                        0.000000\n",
       "loan_status                    0.000000\n",
       "pymnt_plan                     0.000000\n",
       "url                            0.000000\n",
       "desc                          32.585543\n",
       "purpose                        0.000000\n",
       "title                          0.027696\n",
       "zip_code                       0.000000\n",
       "addr_state                     0.000000\n",
       "dti                            0.000000\n",
       "delinq_2yrs                    0.000000\n",
       "earliest_cr_line               0.000000\n",
       "inq_last_6mths                 0.000000\n",
       "mths_since_last_delinq        64.662487\n",
       "open_acc                       0.000000\n",
       "pub_rec                        0.000000\n",
       "revol_bal                      0.000000\n",
       "revol_util                     0.125891\n",
       "total_acc                      0.000000\n",
       "initial_list_status            0.000000\n",
       "out_prncp                      0.000000\n",
       "out_prncp_inv                  0.000000\n",
       "total_pymnt                    0.000000\n",
       "total_pymnt_inv                0.000000\n",
       "total_rec_prncp                0.000000\n",
       "total_rec_int                  0.000000\n",
       "total_rec_late_fee             0.000000\n",
       "recoveries                     0.000000\n",
       "collection_recovery_fee        0.000000\n",
       "last_pymnt_d                   0.178765\n",
       "last_pymnt_amnt                0.000000\n",
       "last_credit_pull_d             0.005036\n",
       "collections_12_mths_ex_med     0.140998\n",
       "policy_code                    0.000000\n",
       "application_type               0.000000\n",
       "acc_now_delinq                 0.000000\n",
       "chargeoff_within_12_mths       0.140998\n",
       "delinq_amnt                    0.000000\n",
       "pub_rec_bankruptcies           1.754916\n",
       "tax_liens                      0.098195\n",
       "dtype: float64"
      ]
     },
     "execution_count": 320,
     "metadata": {},
     "output_type": "execute_result"
    }
   ],
   "source": [
    "# summarise percentage of missing values\n",
    "100*(df_cleaned.isnull().sum()/len(df_cleaned.index))"
   ]
  },
  {
   "cell_type": "markdown",
   "id": "163355d5",
   "metadata": {},
   "source": [
    "mths_since_last_delinq has 64% missing values, so we can plan to remove it. \n",
    "Secondly, months since last delinquent represents the number months passed since the person last fell into the 90 DPD group. There is an important reason we shouldn't use this column in analysis - since at the time of loan application, we will not have this data (it gets generated months after the loan has been approved), it cannot be used as a predictor of default at the time of loan approval.\n"
   ]
  },
  {
   "cell_type": "code",
   "execution_count": 85,
   "id": "7ab6755c",
   "metadata": {},
   "outputs": [],
   "source": [
    "df_cleaned,dropped_columns = drop_columns_with_missing_values(df_cleaned, threshold=.60)"
   ]
  },
  {
   "cell_type": "code",
   "execution_count": 9,
   "id": "77147cee",
   "metadata": {},
   "outputs": [
    {
     "name": "stdout",
     "output_type": "stream",
     "text": [
      "['mths_since_last_delinq']\n"
     ]
    }
   ],
   "source": [
    "print(dropped_columns)"
   ]
  },
  {
   "cell_type": "markdown",
   "id": "5d2c63c3",
   "metadata": {},
   "source": [
    "We can remove URL column as it is not needed for analysis\n",
    "We can remove desc column as well. Column description contains the comments the applicant had written while applying for the loan. Although one can use some text analysis techniques to derive new features from this column (such as sentiment, number of positive/negative words etc.), we will not use this column in this analysis."
   ]
  },
  {
   "cell_type": "code",
   "execution_count": 86,
   "id": "fdc65ac9",
   "metadata": {},
   "outputs": [],
   "source": [
    "df_cleaned = df_cleaned.drop(columns=['url', 'desc'])"
   ]
  },
  {
   "cell_type": "code",
   "execution_count": 87,
   "id": "a3f10cdf",
   "metadata": {},
   "outputs": [],
   "source": [
    "#Removing column as majority of data has 0 as value\n",
    "df_cleaned = df_cleaned.drop(columns=['pub_rec_bankruptcies'])"
   ]
  },
  {
   "cell_type": "code",
   "execution_count": 12,
   "id": "af00b08b",
   "metadata": {},
   "outputs": [
    {
     "data": {
      "text/plain": [
       "(39717, 51)"
      ]
     },
     "execution_count": 12,
     "metadata": {},
     "output_type": "execute_result"
    }
   ],
   "source": [
    "df_cleaned.shape"
   ]
  },
  {
   "cell_type": "code",
   "execution_count": 41,
   "id": "68ba4883",
   "metadata": {},
   "outputs": [
    {
     "data": {
      "text/html": [
       "<div>\n",
       "<style scoped>\n",
       "    .dataframe tbody tr th:only-of-type {\n",
       "        vertical-align: middle;\n",
       "    }\n",
       "\n",
       "    .dataframe tbody tr th {\n",
       "        vertical-align: top;\n",
       "    }\n",
       "\n",
       "    .dataframe thead th {\n",
       "        text-align: right;\n",
       "    }\n",
       "</style>\n",
       "<table border=\"1\" class=\"dataframe\">\n",
       "  <thead>\n",
       "    <tr style=\"text-align: right;\">\n",
       "      <th></th>\n",
       "      <th>id</th>\n",
       "      <th>member_id</th>\n",
       "      <th>loan_amnt</th>\n",
       "      <th>funded_amnt</th>\n",
       "      <th>funded_amnt_inv</th>\n",
       "      <th>term</th>\n",
       "      <th>int_rate</th>\n",
       "      <th>installment</th>\n",
       "      <th>grade</th>\n",
       "      <th>sub_grade</th>\n",
       "      <th>...</th>\n",
       "      <th>last_pymnt_d</th>\n",
       "      <th>last_pymnt_amnt</th>\n",
       "      <th>last_credit_pull_d</th>\n",
       "      <th>collections_12_mths_ex_med</th>\n",
       "      <th>policy_code</th>\n",
       "      <th>application_type</th>\n",
       "      <th>acc_now_delinq</th>\n",
       "      <th>chargeoff_within_12_mths</th>\n",
       "      <th>delinq_amnt</th>\n",
       "      <th>tax_liens</th>\n",
       "    </tr>\n",
       "  </thead>\n",
       "  <tbody>\n",
       "    <tr>\n",
       "      <th>0</th>\n",
       "      <td>1077501</td>\n",
       "      <td>1296599</td>\n",
       "      <td>5000</td>\n",
       "      <td>5000</td>\n",
       "      <td>4975.0</td>\n",
       "      <td>36 months</td>\n",
       "      <td>10.65%</td>\n",
       "      <td>162.87</td>\n",
       "      <td>B</td>\n",
       "      <td>B2</td>\n",
       "      <td>...</td>\n",
       "      <td>Jan-15</td>\n",
       "      <td>171.62</td>\n",
       "      <td>May-16</td>\n",
       "      <td>0.0</td>\n",
       "      <td>1</td>\n",
       "      <td>INDIVIDUAL</td>\n",
       "      <td>0</td>\n",
       "      <td>0.0</td>\n",
       "      <td>0</td>\n",
       "      <td>0.0</td>\n",
       "    </tr>\n",
       "    <tr>\n",
       "      <th>1</th>\n",
       "      <td>1077430</td>\n",
       "      <td>1314167</td>\n",
       "      <td>2500</td>\n",
       "      <td>2500</td>\n",
       "      <td>2500.0</td>\n",
       "      <td>60 months</td>\n",
       "      <td>15.27%</td>\n",
       "      <td>59.83</td>\n",
       "      <td>C</td>\n",
       "      <td>C4</td>\n",
       "      <td>...</td>\n",
       "      <td>Apr-13</td>\n",
       "      <td>119.66</td>\n",
       "      <td>Sep-13</td>\n",
       "      <td>0.0</td>\n",
       "      <td>1</td>\n",
       "      <td>INDIVIDUAL</td>\n",
       "      <td>0</td>\n",
       "      <td>0.0</td>\n",
       "      <td>0</td>\n",
       "      <td>0.0</td>\n",
       "    </tr>\n",
       "    <tr>\n",
       "      <th>2</th>\n",
       "      <td>1077175</td>\n",
       "      <td>1313524</td>\n",
       "      <td>2400</td>\n",
       "      <td>2400</td>\n",
       "      <td>2400.0</td>\n",
       "      <td>36 months</td>\n",
       "      <td>15.96%</td>\n",
       "      <td>84.33</td>\n",
       "      <td>C</td>\n",
       "      <td>C5</td>\n",
       "      <td>...</td>\n",
       "      <td>Jun-14</td>\n",
       "      <td>649.91</td>\n",
       "      <td>May-16</td>\n",
       "      <td>0.0</td>\n",
       "      <td>1</td>\n",
       "      <td>INDIVIDUAL</td>\n",
       "      <td>0</td>\n",
       "      <td>0.0</td>\n",
       "      <td>0</td>\n",
       "      <td>0.0</td>\n",
       "    </tr>\n",
       "    <tr>\n",
       "      <th>3</th>\n",
       "      <td>1076863</td>\n",
       "      <td>1277178</td>\n",
       "      <td>10000</td>\n",
       "      <td>10000</td>\n",
       "      <td>10000.0</td>\n",
       "      <td>36 months</td>\n",
       "      <td>13.49%</td>\n",
       "      <td>339.31</td>\n",
       "      <td>C</td>\n",
       "      <td>C1</td>\n",
       "      <td>...</td>\n",
       "      <td>Jan-15</td>\n",
       "      <td>357.48</td>\n",
       "      <td>Apr-16</td>\n",
       "      <td>0.0</td>\n",
       "      <td>1</td>\n",
       "      <td>INDIVIDUAL</td>\n",
       "      <td>0</td>\n",
       "      <td>0.0</td>\n",
       "      <td>0</td>\n",
       "      <td>0.0</td>\n",
       "    </tr>\n",
       "    <tr>\n",
       "      <th>4</th>\n",
       "      <td>1075358</td>\n",
       "      <td>1311748</td>\n",
       "      <td>3000</td>\n",
       "      <td>3000</td>\n",
       "      <td>3000.0</td>\n",
       "      <td>60 months</td>\n",
       "      <td>12.69%</td>\n",
       "      <td>67.79</td>\n",
       "      <td>B</td>\n",
       "      <td>B5</td>\n",
       "      <td>...</td>\n",
       "      <td>May-16</td>\n",
       "      <td>67.79</td>\n",
       "      <td>May-16</td>\n",
       "      <td>0.0</td>\n",
       "      <td>1</td>\n",
       "      <td>INDIVIDUAL</td>\n",
       "      <td>0</td>\n",
       "      <td>0.0</td>\n",
       "      <td>0</td>\n",
       "      <td>0.0</td>\n",
       "    </tr>\n",
       "  </tbody>\n",
       "</table>\n",
       "<p>5 rows × 51 columns</p>\n",
       "</div>"
      ],
      "text/plain": [
       "        id  member_id  loan_amnt  funded_amnt  funded_amnt_inv        term  \\\n",
       "0  1077501    1296599       5000         5000           4975.0   36 months   \n",
       "1  1077430    1314167       2500         2500           2500.0   60 months   \n",
       "2  1077175    1313524       2400         2400           2400.0   36 months   \n",
       "3  1076863    1277178      10000        10000          10000.0   36 months   \n",
       "4  1075358    1311748       3000         3000           3000.0   60 months   \n",
       "\n",
       "  int_rate  installment grade sub_grade  ... last_pymnt_d last_pymnt_amnt  \\\n",
       "0   10.65%       162.87     B        B2  ...       Jan-15          171.62   \n",
       "1   15.27%        59.83     C        C4  ...       Apr-13          119.66   \n",
       "2   15.96%        84.33     C        C5  ...       Jun-14          649.91   \n",
       "3   13.49%       339.31     C        C1  ...       Jan-15          357.48   \n",
       "4   12.69%        67.79     B        B5  ...       May-16           67.79   \n",
       "\n",
       "  last_credit_pull_d  collections_12_mths_ex_med policy_code application_type  \\\n",
       "0             May-16                         0.0           1       INDIVIDUAL   \n",
       "1             Sep-13                         0.0           1       INDIVIDUAL   \n",
       "2             May-16                         0.0           1       INDIVIDUAL   \n",
       "3             Apr-16                         0.0           1       INDIVIDUAL   \n",
       "4             May-16                         0.0           1       INDIVIDUAL   \n",
       "\n",
       "  acc_now_delinq chargeoff_within_12_mths delinq_amnt tax_liens  \n",
       "0              0                      0.0           0       0.0  \n",
       "1              0                      0.0           0       0.0  \n",
       "2              0                      0.0           0       0.0  \n",
       "3              0                      0.0           0       0.0  \n",
       "4              0                      0.0           0       0.0  \n",
       "\n",
       "[5 rows x 51 columns]"
      ]
     },
     "execution_count": 41,
     "metadata": {},
     "output_type": "execute_result"
    }
   ],
   "source": [
    "df_cleaned.head()"
   ]
  },
  {
   "cell_type": "markdown",
   "id": "899eb4d3",
   "metadata": {},
   "source": [
    " We have already removed colums with missing values. Now we can check whether some rows have more than 5 missing values"
   ]
  },
  {
   "cell_type": "code",
   "execution_count": 13,
   "id": "50dcfed5",
   "metadata": {},
   "outputs": [
    {
     "data": {
      "text/plain": [
       "0"
      ]
     },
     "execution_count": 13,
     "metadata": {},
     "output_type": "execute_result"
    }
   ],
   "source": [
    "len(df_cleaned[df_cleaned.isnull().sum(axis=1) > 5].index)\n",
    "#There are no rows which has move than 5 missing values"
   ]
  },
  {
   "cell_type": "markdown",
   "id": "a86c0165",
   "metadata": {},
   "source": [
    "# Remove columns with constant/default values"
   ]
  },
  {
   "cell_type": "code",
   "execution_count": 88,
   "id": "9f3a1cf8",
   "metadata": {},
   "outputs": [
    {
     "name": "stdout",
     "output_type": "stream",
     "text": [
      "['pymnt_plan', 'initial_list_status', 'collections_12_mths_ex_med', 'policy_code', 'application_type', 'acc_now_delinq', 'chargeoff_within_12_mths', 'delinq_amnt', 'tax_liens']\n"
     ]
    }
   ],
   "source": [
    "#All records of these columns has same value\n",
    "constant_columns = [col for col in df.columns if df[col].nunique() == 1]\n",
    "print(constant_columns)"
   ]
  },
  {
   "cell_type": "code",
   "execution_count": 89,
   "id": "31d25d45",
   "metadata": {},
   "outputs": [],
   "source": [
    "df_cleaned=df_cleaned.drop(columns=constant_columns)"
   ]
  },
  {
   "cell_type": "markdown",
   "id": "e1f0d232",
   "metadata": {},
   "source": [
    "We can remove id columns as it is not meaningful in analysis"
   ]
  },
  {
   "cell_type": "code",
   "execution_count": 90,
   "id": "bb4f4356",
   "metadata": {},
   "outputs": [],
   "source": [
    "df_cleaned=df_cleaned.drop(columns=['id','member_id'])"
   ]
  },
  {
   "cell_type": "code",
   "execution_count": 16,
   "id": "5880c13c",
   "metadata": {},
   "outputs": [
    {
     "data": {
      "text/plain": [
       "(39717, 40)"
      ]
     },
     "execution_count": 16,
     "metadata": {},
     "output_type": "execute_result"
    }
   ],
   "source": [
    "df_cleaned.shape"
   ]
  },
  {
   "cell_type": "markdown",
   "id": "c561fe49",
   "metadata": {},
   "source": [
    "# 3.Data Analysis & Readiness\n",
    "Let's now move to data analysis. To start with, let's understand the objective of the analysis clearly and identify the variables that we want to consider for analysis.\n",
    "\n",
    "The objective is to identify predictors of default so that at the time of loan application, we can use those variables for approval/rejection of the loan. Now, there are broadly three types of variables - 1. those which are related to the applicant (demographic variables such as age, occupation, employment details etc.), 2. loan characteristics (amount of loan, interest rate, purpose of loan etc.) and 3. Customer behaviour variables (those which are generated after the loan is approved such as delinquent 2 years, revolving balance, next payment date etc.).\n",
    "\n",
    "Now, the customer behaviour variables are not available at the time of loan application, and thus they cannot be used as predictors for credit approval.\n",
    "\n",
    "Thus, going forward, we will use only the other two types of variables."
   ]
  },
  {
   "cell_type": "code",
   "execution_count": 327,
   "id": "75ea524d",
   "metadata": {},
   "outputs": [
    {
     "data": {
      "text/plain": [
       "Index(['loan_amnt', 'funded_amnt', 'funded_amnt_inv', 'term', 'int_rate',\n",
       "       'installment', 'grade', 'sub_grade', 'emp_title', 'emp_length',\n",
       "       'home_ownership', 'annual_inc', 'verification_status', 'issue_d',\n",
       "       'loan_status', 'purpose', 'title', 'zip_code', 'addr_state', 'dti',\n",
       "       'delinq_2yrs', 'earliest_cr_line', 'inq_last_6mths', 'open_acc',\n",
       "       'pub_rec', 'revol_bal', 'revol_util', 'total_acc', 'out_prncp',\n",
       "       'out_prncp_inv', 'total_pymnt', 'total_pymnt_inv', 'total_rec_prncp',\n",
       "       'total_rec_int', 'total_rec_late_fee', 'recoveries',\n",
       "       'collection_recovery_fee', 'last_pymnt_d', 'last_pymnt_amnt',\n",
       "       'last_credit_pull_d', 'pub_rec_bankruptcies'],\n",
       "      dtype='object')"
      ]
     },
     "execution_count": 327,
     "metadata": {},
     "output_type": "execute_result"
    }
   ],
   "source": [
    "df_cleaned.columns"
   ]
  },
  {
   "cell_type": "code",
   "execution_count": 91,
   "id": "b146a6a6",
   "metadata": {},
   "outputs": [
    {
     "data": {
      "text/plain": [
       "['delinq_2yrs',\n",
       " 'earliest_cr_line',\n",
       " 'inq_last_6mths',\n",
       " 'open_acc',\n",
       " 'pub_rec',\n",
       " 'revol_bal',\n",
       " 'revol_util',\n",
       " 'total_acc',\n",
       " 'out_prncp',\n",
       " 'out_prncp_inv',\n",
       " 'total_pymnt',\n",
       " 'total_pymnt_inv',\n",
       " 'total_rec_prncp',\n",
       " 'total_rec_int',\n",
       " 'total_rec_late_fee',\n",
       " 'recoveries',\n",
       " 'collection_recovery_fee',\n",
       " 'last_pymnt_d',\n",
       " 'last_pymnt_amnt',\n",
       " 'last_credit_pull_d']"
      ]
     },
     "execution_count": 91,
     "metadata": {},
     "output_type": "execute_result"
    }
   ],
   "source": [
    "behaviour_var =  [\n",
    "  \"delinq_2yrs\",\n",
    "  \"earliest_cr_line\",\n",
    "  \"inq_last_6mths\",\n",
    "  \"open_acc\",\n",
    "  \"pub_rec\",\n",
    "  \"revol_bal\",\n",
    "  \"revol_util\",\n",
    "  \"total_acc\",\n",
    "  \"out_prncp\",\n",
    "  \"out_prncp_inv\",\n",
    "  \"total_pymnt\",\n",
    "  \"total_pymnt_inv\",\n",
    "  \"total_rec_prncp\",\n",
    "  \"total_rec_int\",\n",
    "  \"total_rec_late_fee\",\n",
    "  \"recoveries\",\n",
    "  \"collection_recovery_fee\",\n",
    "  \"last_pymnt_d\",\n",
    "  \"last_pymnt_amnt\",\n",
    "  \"last_credit_pull_d\"]\n",
    "behaviour_var"
   ]
  },
  {
   "cell_type": "code",
   "execution_count": 92,
   "id": "74bd8a5a",
   "metadata": {},
   "outputs": [
    {
     "name": "stdout",
     "output_type": "stream",
     "text": [
      "<class 'pandas.core.frame.DataFrame'>\n",
      "RangeIndex: 39717 entries, 0 to 39716\n",
      "Data columns (total 20 columns):\n",
      " #   Column               Non-Null Count  Dtype  \n",
      "---  ------               --------------  -----  \n",
      " 0   loan_amnt            39717 non-null  int64  \n",
      " 1   funded_amnt          39717 non-null  int64  \n",
      " 2   funded_amnt_inv      39717 non-null  float64\n",
      " 3   term                 39717 non-null  object \n",
      " 4   int_rate             39717 non-null  object \n",
      " 5   installment          39717 non-null  float64\n",
      " 6   grade                39717 non-null  object \n",
      " 7   sub_grade            39717 non-null  object \n",
      " 8   emp_title            37258 non-null  object \n",
      " 9   emp_length           38642 non-null  object \n",
      " 10  home_ownership       39717 non-null  object \n",
      " 11  annual_inc           39717 non-null  float64\n",
      " 12  verification_status  39717 non-null  object \n",
      " 13  issue_d              39717 non-null  object \n",
      " 14  loan_status          39717 non-null  object \n",
      " 15  purpose              39717 non-null  object \n",
      " 16  title                39706 non-null  object \n",
      " 17  zip_code             39717 non-null  object \n",
      " 18  addr_state           39717 non-null  object \n",
      " 19  dti                  39717 non-null  float64\n",
      "dtypes: float64(4), int64(2), object(14)\n",
      "memory usage: 6.1+ MB\n"
     ]
    }
   ],
   "source": [
    "# let's now remove the behaviour variables from analysis\n",
    "df_cleaned = df_cleaned.drop(behaviour_var, axis=1)\n",
    "df_cleaned.info()"
   ]
  },
  {
   "cell_type": "code",
   "execution_count": 93,
   "id": "c6efed38",
   "metadata": {},
   "outputs": [
    {
     "data": {
      "text/plain": [
       "(39717, 17)"
      ]
     },
     "execution_count": 93,
     "metadata": {},
     "output_type": "execute_result"
    }
   ],
   "source": [
    "# also, we will not be able to use the variables zip code, address. etc. But for timebeing we will keep state \n",
    "# the variable 'title' is derived from the variable 'purpose'\n",
    "# thus let get rid of all these variables as well\n",
    "#we can drop 'emp_title' also\n",
    "\n",
    "df_cleaned = df_cleaned.drop(['title', 'zip_code','emp_title'], axis=1)\n",
    "\n",
    "df_cleaned.shape"
   ]
  },
  {
   "cell_type": "code",
   "execution_count": 48,
   "id": "7d08988d",
   "metadata": {},
   "outputs": [
    {
     "data": {
      "text/html": [
       "<div>\n",
       "<style scoped>\n",
       "    .dataframe tbody tr th:only-of-type {\n",
       "        vertical-align: middle;\n",
       "    }\n",
       "\n",
       "    .dataframe tbody tr th {\n",
       "        vertical-align: top;\n",
       "    }\n",
       "\n",
       "    .dataframe thead th {\n",
       "        text-align: right;\n",
       "    }\n",
       "</style>\n",
       "<table border=\"1\" class=\"dataframe\">\n",
       "  <thead>\n",
       "    <tr style=\"text-align: right;\">\n",
       "      <th></th>\n",
       "      <th>loan_amnt</th>\n",
       "      <th>funded_amnt</th>\n",
       "      <th>funded_amnt_inv</th>\n",
       "      <th>term</th>\n",
       "      <th>int_rate</th>\n",
       "      <th>installment</th>\n",
       "      <th>grade</th>\n",
       "      <th>sub_grade</th>\n",
       "      <th>emp_length</th>\n",
       "      <th>home_ownership</th>\n",
       "      <th>annual_inc</th>\n",
       "      <th>verification_status</th>\n",
       "      <th>issue_d</th>\n",
       "      <th>loan_status</th>\n",
       "      <th>purpose</th>\n",
       "      <th>addr_state</th>\n",
       "      <th>dti</th>\n",
       "    </tr>\n",
       "  </thead>\n",
       "  <tbody>\n",
       "    <tr>\n",
       "      <th>0</th>\n",
       "      <td>5000</td>\n",
       "      <td>5000</td>\n",
       "      <td>4975.0</td>\n",
       "      <td>36 months</td>\n",
       "      <td>10.65%</td>\n",
       "      <td>162.87</td>\n",
       "      <td>B</td>\n",
       "      <td>B2</td>\n",
       "      <td>10+ years</td>\n",
       "      <td>RENT</td>\n",
       "      <td>24000.0</td>\n",
       "      <td>Verified</td>\n",
       "      <td>Dec-11</td>\n",
       "      <td>Fully Paid</td>\n",
       "      <td>credit_card</td>\n",
       "      <td>AZ</td>\n",
       "      <td>27.65</td>\n",
       "    </tr>\n",
       "    <tr>\n",
       "      <th>1</th>\n",
       "      <td>2500</td>\n",
       "      <td>2500</td>\n",
       "      <td>2500.0</td>\n",
       "      <td>60 months</td>\n",
       "      <td>15.27%</td>\n",
       "      <td>59.83</td>\n",
       "      <td>C</td>\n",
       "      <td>C4</td>\n",
       "      <td>&lt; 1 year</td>\n",
       "      <td>RENT</td>\n",
       "      <td>30000.0</td>\n",
       "      <td>Source Verified</td>\n",
       "      <td>Dec-11</td>\n",
       "      <td>Charged Off</td>\n",
       "      <td>car</td>\n",
       "      <td>GA</td>\n",
       "      <td>1.00</td>\n",
       "    </tr>\n",
       "    <tr>\n",
       "      <th>2</th>\n",
       "      <td>2400</td>\n",
       "      <td>2400</td>\n",
       "      <td>2400.0</td>\n",
       "      <td>36 months</td>\n",
       "      <td>15.96%</td>\n",
       "      <td>84.33</td>\n",
       "      <td>C</td>\n",
       "      <td>C5</td>\n",
       "      <td>10+ years</td>\n",
       "      <td>RENT</td>\n",
       "      <td>12252.0</td>\n",
       "      <td>Not Verified</td>\n",
       "      <td>Dec-11</td>\n",
       "      <td>Fully Paid</td>\n",
       "      <td>small_business</td>\n",
       "      <td>IL</td>\n",
       "      <td>8.72</td>\n",
       "    </tr>\n",
       "    <tr>\n",
       "      <th>3</th>\n",
       "      <td>10000</td>\n",
       "      <td>10000</td>\n",
       "      <td>10000.0</td>\n",
       "      <td>36 months</td>\n",
       "      <td>13.49%</td>\n",
       "      <td>339.31</td>\n",
       "      <td>C</td>\n",
       "      <td>C1</td>\n",
       "      <td>10+ years</td>\n",
       "      <td>RENT</td>\n",
       "      <td>49200.0</td>\n",
       "      <td>Source Verified</td>\n",
       "      <td>Dec-11</td>\n",
       "      <td>Fully Paid</td>\n",
       "      <td>other</td>\n",
       "      <td>CA</td>\n",
       "      <td>20.00</td>\n",
       "    </tr>\n",
       "    <tr>\n",
       "      <th>4</th>\n",
       "      <td>3000</td>\n",
       "      <td>3000</td>\n",
       "      <td>3000.0</td>\n",
       "      <td>60 months</td>\n",
       "      <td>12.69%</td>\n",
       "      <td>67.79</td>\n",
       "      <td>B</td>\n",
       "      <td>B5</td>\n",
       "      <td>1 year</td>\n",
       "      <td>RENT</td>\n",
       "      <td>80000.0</td>\n",
       "      <td>Source Verified</td>\n",
       "      <td>Dec-11</td>\n",
       "      <td>Current</td>\n",
       "      <td>other</td>\n",
       "      <td>OR</td>\n",
       "      <td>17.94</td>\n",
       "    </tr>\n",
       "  </tbody>\n",
       "</table>\n",
       "</div>"
      ],
      "text/plain": [
       "   loan_amnt  funded_amnt  funded_amnt_inv        term int_rate  installment  \\\n",
       "0       5000         5000           4975.0   36 months   10.65%       162.87   \n",
       "1       2500         2500           2500.0   60 months   15.27%        59.83   \n",
       "2       2400         2400           2400.0   36 months   15.96%        84.33   \n",
       "3      10000        10000          10000.0   36 months   13.49%       339.31   \n",
       "4       3000         3000           3000.0   60 months   12.69%        67.79   \n",
       "\n",
       "  grade sub_grade emp_length home_ownership  annual_inc verification_status  \\\n",
       "0     B        B2  10+ years           RENT     24000.0            Verified   \n",
       "1     C        C4   < 1 year           RENT     30000.0     Source Verified   \n",
       "2     C        C5  10+ years           RENT     12252.0        Not Verified   \n",
       "3     C        C1  10+ years           RENT     49200.0     Source Verified   \n",
       "4     B        B5     1 year           RENT     80000.0     Source Verified   \n",
       "\n",
       "  issue_d  loan_status         purpose addr_state    dti  \n",
       "0  Dec-11   Fully Paid     credit_card         AZ  27.65  \n",
       "1  Dec-11  Charged Off             car         GA   1.00  \n",
       "2  Dec-11   Fully Paid  small_business         IL   8.72  \n",
       "3  Dec-11   Fully Paid           other         CA  20.00  \n",
       "4  Dec-11      Current           other         OR  17.94  "
      ]
     },
     "execution_count": 48,
     "metadata": {},
     "output_type": "execute_result"
    }
   ],
   "source": [
    "df_cleaned.head()"
   ]
  },
  {
   "cell_type": "code",
   "execution_count": 20,
   "id": "69a0011f",
   "metadata": {},
   "outputs": [
    {
     "data": {
      "text/plain": [
       "term\n",
       " 36 months    29096\n",
       " 60 months    10621\n",
       "Name: count, dtype: int64"
      ]
     },
     "execution_count": 20,
     "metadata": {},
     "output_type": "execute_result"
    }
   ],
   "source": [
    "df_cleaned['term'].value_counts()"
   ]
  },
  {
   "cell_type": "code",
   "execution_count": 335,
   "id": "b52350f0",
   "metadata": {},
   "outputs": [],
   "source": [
    "#df_cleaned['term']=df_cleaned['term'].apply(lambda x: pd.to_numeric(x.split(\"months\")[0]))"
   ]
  },
  {
   "cell_type": "code",
   "execution_count": 21,
   "id": "116c031f",
   "metadata": {},
   "outputs": [
    {
     "data": {
      "text/plain": [
       "int_rate\n",
       "10.99%    956\n",
       "13.49%    826\n",
       "11.49%    825\n",
       "7.51%     787\n",
       "7.88%     725\n",
       "         ... \n",
       "18.36%      1\n",
       "16.96%      1\n",
       "16.15%      1\n",
       "16.01%      1\n",
       "17.44%      1\n",
       "Name: count, Length: 371, dtype: int64"
      ]
     },
     "execution_count": 21,
     "metadata": {},
     "output_type": "execute_result"
    }
   ],
   "source": [
    "df_cleaned['int_rate'].value_counts()"
   ]
  },
  {
   "cell_type": "code",
   "execution_count": 94,
   "id": "210dc1b6",
   "metadata": {},
   "outputs": [
    {
     "name": "stdout",
     "output_type": "stream",
     "text": [
      "<class 'pandas.core.series.Series'>\n",
      "RangeIndex: 39717 entries, 0 to 39716\n",
      "Series name: int_rate\n",
      "Non-Null Count  Dtype  \n",
      "--------------  -----  \n",
      "39717 non-null  float64\n",
      "dtypes: float64(1)\n",
      "memory usage: 310.4 KB\n"
     ]
    }
   ],
   "source": [
    "df_cleaned['int_rate']=df_cleaned['int_rate'].str.replace('%','')\n",
    "df_cleaned['int_rate']=pd.to_numeric(df_cleaned['int_rate'])\n",
    "df_cleaned['int_rate'].info()"
   ]
  },
  {
   "cell_type": "code",
   "execution_count": 95,
   "id": "6f4d4237",
   "metadata": {},
   "outputs": [],
   "source": [
    "# also, lets extract the numeric part from the variable employment length\n",
    "\n",
    "# first, let's drop the missing values from the column (otherwise the regex code below throws error)\n",
    "df_cleaned = df_cleaned[~df_cleaned['emp_length'].isnull()]\n",
    "\n",
    "# using regular expression to extract numeric values from the string\n",
    "import re\n",
    "df_cleaned['emp_length'] = df_cleaned['emp_length'].apply(lambda x: re.findall('\\d+', str(x))[0])\n",
    "\n",
    "# convert to numeric\n",
    "df_cleaned['emp_length'] = df_cleaned['emp_length'].apply(lambda x: pd.to_numeric(x))"
   ]
  },
  {
   "cell_type": "markdown",
   "id": "f1f79c15",
   "metadata": {},
   "source": [
    "# 3.1 Univariate Analysis \n",
    "Next, let's have a look at the target variable - loan_status. We need to relabel the values to a binary form - 0 or 1, 1 indicating that the person has defaulted and 0 otherwise."
   ]
  },
  {
   "cell_type": "code",
   "execution_count": 96,
   "id": "666a63dd",
   "metadata": {},
   "outputs": [
    {
     "data": {
      "text/plain": [
       "loan_status\n",
       "Fully Paid     32145\n",
       "Charged Off     5399\n",
       "Current         1098\n",
       "Name: count, dtype: int64"
      ]
     },
     "execution_count": 96,
     "metadata": {},
     "output_type": "execute_result"
    }
   ],
   "source": [
    "df_cleaned['loan_status'] = df_cleaned['loan_status']\n",
    "df_cleaned['loan_status'].value_counts()"
   ]
  },
  {
   "cell_type": "markdown",
   "id": "8b24fe3c",
   "metadata": {},
   "source": [
    "You can see that fully paid comprises most of the loans. The ones marked 'current' are neither fully paid not defaulted, so let's get rid of the current loans. Also, let's tag the other two values as 0 or 1."
   ]
  },
  {
   "cell_type": "code",
   "execution_count": 97,
   "id": "c3c8080f",
   "metadata": {},
   "outputs": [
    {
     "data": {
      "text/plain": [
       "loan_status_numeric\n",
       "0    32145\n",
       "1     5399\n",
       "Name: count, dtype: int64"
      ]
     },
     "execution_count": 97,
     "metadata": {},
     "output_type": "execute_result"
    }
   ],
   "source": [
    "# filtering only fully paid or charged-off\n",
    "df_cleaned = df_cleaned[df_cleaned['loan_status'] != 'Current']\n",
    "df_cleaned['loan_status_numeric'] = df_cleaned['loan_status'].apply(lambda x: 0 if x=='Fully Paid' else 1)\n",
    "\n",
    "# converting loan_status to integer type\n",
    "df_cleaned['loan_status_numeric'] = df_cleaned['loan_status_numeric'].apply(lambda x: pd.to_numeric(x))\n",
    "\n",
    "# summarising the values\n",
    "df_cleaned['loan_status_numeric'].value_counts()"
   ]
  },
  {
   "cell_type": "code",
   "execution_count": 24,
   "id": "43eaefca",
   "metadata": {},
   "outputs": [
    {
     "data": {
      "text/plain": [
       "loan_status\n",
       "Fully Paid     32145\n",
       "Charged Off     5399\n",
       "Name: count, dtype: int64"
      ]
     },
     "execution_count": 24,
     "metadata": {},
     "output_type": "execute_result"
    }
   ],
   "source": [
    "df_cleaned['loan_status'].value_counts()"
   ]
  },
  {
   "cell_type": "code",
   "execution_count": 98,
   "id": "7ed3d025",
   "metadata": {},
   "outputs": [
    {
     "data": {
      "text/plain": [
       "Text(0, 0.5, 'Count')"
      ]
     },
     "execution_count": 98,
     "metadata": {},
     "output_type": "execute_result"
    },
    {
     "data": {
      "image/png": "[encoded data removed]",
      "text/plain": [
       "<Figure size 432x288 with 1 Axes>"
      ]
     },
     "metadata": {
      "needs_background": "light"
     },
     "output_type": "display_data"
    }
   ],
   "source": [
    "ax=sns.countplot(data=df_cleaned, x='loan_status')\n",
    "\n",
    "# Add exact values on top of each bar\n",
    "for p in ax.patches:\n",
    "    ax.annotate(f'{p.get_height()}', (p.get_x() + p.get_width() / 2., p.get_height()),\n",
    "                ha='center', va='center', fontsize=12, color='black', xytext=(0, 5),\n",
    "                textcoords='offset points')\n",
    "\n",
    "plt.title(\"Count of Loan Status\")\n",
    "plt.xlabel(\"Loan Status\")\n",
    "plt.ylabel(\"Count\")\n"
   ]
  },
  {
   "cell_type": "markdown",
   "id": "72cf0244",
   "metadata": {},
   "source": [
    "In the plot we can see that defaulter's count is around 5000"
   ]
  },
  {
   "cell_type": "code",
   "execution_count": 32,
   "id": "fe8b8eec",
   "metadata": {},
   "outputs": [
    {
     "data": {
      "image/png": "[encoded data removed]",
      "text/plain": [
       "<Figure size 432x288 with 1 Axes>"
      ]
     },
     "metadata": {
      "needs_background": "light"
     },
     "output_type": "display_data"
    }
   ],
   "source": [
    "# Trying to do univariate anallysis on another categorical variable\n",
    "df_cleaned['grade'] = df_cleaned['grade'].astype('category')\n",
    "sns.countplot(data=df_cleaned, x='grade')\n",
    "\n",
    "plt.title(\"Frequency of occurance of Grade\")\n",
    "plt.xlabel(\"Grade\")\n",
    "plt.ylabel(\"Count\")\n",
    "\n",
    "plt.show()"
   ]
  },
  {
   "cell_type": "markdown",
   "id": "ee2e3dea",
   "metadata": {},
   "source": [
    "Out of fully paid/Defaulted customers, more loans has been provided for Grade B"
   ]
  },
  {
   "cell_type": "code",
   "execution_count": 33,
   "id": "96eb0385",
   "metadata": {},
   "outputs": [
    {
     "data": {
      "image/png": "[encoded data removed]",
      "text/plain": [
       "<Figure size 432x288 with 1 Axes>"
      ]
     },
     "metadata": {
      "needs_background": "light"
     },
     "output_type": "display_data"
    }
   ],
   "source": [
    "# Trying to do univariate anallysis on another categorical variable\n",
    "\n",
    "df_cleaned['grade'] = df_cleaned['purpose'].astype('category')\n",
    "plt.title(\"Frequency of loan records based on Purpose\")\n",
    "sns.countplot(data=df_cleaned, x='purpose')\n",
    "plt.xticks(rotation=90)\n",
    "plt.show()"
   ]
  },
  {
   "cell_type": "markdown",
   "id": "c7f4544f",
   "metadata": {},
   "source": [
    "Top 4 types of loans based on purpose: consolidation, credit card, home improvement and major purchase."
   ]
  },
  {
   "cell_type": "markdown",
   "id": "c686dee1",
   "metadata": {},
   "source": [
    "In the count plot, you are simply observing the frequency of each purpose category. \n",
    "The highest bar for debt consolidation and credit card indicates that these are thae most common purposes among the loans in your dataset. It doesn't directly reflect the default rate."
   ]
  },
  {
   "cell_type": "code",
   "execution_count": 99,
   "id": "8813ea49",
   "metadata": {},
   "outputs": [
    {
     "name": "stdout",
     "output_type": "stream",
     "text": [
      "Index(['loan_amnt', 'funded_amnt', 'funded_amnt_inv', 'int_rate',\n",
      "       'installment', 'emp_length', 'annual_inc', 'dti',\n",
      "       'loan_status_numeric'],\n",
      "      dtype='object')\n"
     ]
    }
   ],
   "source": [
    "continuous_columns = df_cleaned.select_dtypes(include=[\"float64\",\"int64\"]).columns\n",
    "print(continuous_columns)"
   ]
  },
  {
   "cell_type": "code",
   "execution_count": 24,
   "id": "5c332b30",
   "metadata": {},
   "outputs": [
    {
     "data": {
      "text/plain": [
       "Text(0.5, 1.0, 'Loan Amount Distribution')"
      ]
     },
     "execution_count": 24,
     "metadata": {},
     "output_type": "execute_result"
    },
    {
     "data": {
      "image/png": "[encoded data removed]",
      "text/plain": [
       "<Figure size 432x288 with 1 Axes>"
      ]
     },
     "metadata": {
      "needs_background": "light"
     },
     "output_type": "display_data"
    }
   ],
   "source": [
    "sns.distplot(df_cleaned['loan_amnt'])\n",
    "plt.title(\"Loan Amount Distribution\")"
   ]
  },
  {
   "cell_type": "code",
   "execution_count": 26,
   "id": "9dd1330f",
   "metadata": {},
   "outputs": [
    {
     "data": {
      "text/plain": [
       "Text(0.5, 1.0, 'Loan Amount Distribution')"
      ]
     },
     "execution_count": 26,
     "metadata": {},
     "output_type": "execute_result"
    },
    {
     "data": {
      "image/png": "[encoded data removed]",
      "text/plain": [
       "<Figure size 432x288 with 1 Axes>"
      ]
     },
     "metadata": {
      "needs_background": "light"
     },
     "output_type": "display_data"
    }
   ],
   "source": [
    "sns.boxplot(df_cleaned['loan_amnt'])\n",
    "plt.title(\"Loan Amount Distribution\")"
   ]
  },
  {
   "cell_type": "code",
   "execution_count": 34,
   "id": "2443b449",
   "metadata": {},
   "outputs": [
    {
     "data": {
      "text/plain": [
       "Text(0.5, 1.0, 'Interest Rate Distribution')"
      ]
     },
     "execution_count": 34,
     "metadata": {},
     "output_type": "execute_result"
    },
    {
     "data": {
      "image/png": "[encoded data removed]",
      "text/plain": [
       "<Figure size 432x288 with 1 Axes>"
      ]
     },
     "metadata": {
      "needs_background": "light"
     },
     "output_type": "display_data"
    }
   ],
   "source": [
    "sns.distplot(df_cleaned['int_rate'])\n",
    "plt.title(\"Interest Rate Distribution\")\n"
   ]
  },
  {
   "attachments": {},
   "cell_type": "markdown",
   "id": "d818d688",
   "metadata": {},
   "source": [
    "Majority of loans are between range 5000-15000. There is a pattern observed in amount which can be segmented for further analysis"
   ]
  },
  {
   "cell_type": "code",
   "execution_count": 30,
   "id": "cc0d8272",
   "metadata": {},
   "outputs": [
    {
     "data": {
      "text/plain": [
       "Text(0.5, 1.0, 'Interest Rate Distribution')"
      ]
     },
     "execution_count": 30,
     "metadata": {},
     "output_type": "execute_result"
    },
    {
     "data": {
      "image/png": "[encoded data removed]",
      "text/plain": [
       "<Figure size 432x288 with 1 Axes>"
      ]
     },
     "metadata": {
      "needs_background": "light"
     },
     "output_type": "display_data"
    }
   ],
   "source": [
    "sns.boxplot(df_cleaned['int_rate'])\n",
    "plt.title(\"Interest Rate Distribution\")"
   ]
  },
  {
   "cell_type": "markdown",
   "id": "9f5df0e1",
   "metadata": {},
   "source": [
    "Observation : Maximum of people have loans with interest rate >8 and less than 15. Possibility of  2 segments of loans with interest rate \n"
   ]
  },
  {
   "cell_type": "code",
   "execution_count": 31,
   "id": "f27d4cfe",
   "metadata": {},
   "outputs": [
    {
     "data": {
      "text/plain": [
       "Text(0.5, 1.0, 'Income Distribution')"
      ]
     },
     "execution_count": 31,
     "metadata": {},
     "output_type": "execute_result"
    },
    {
     "data": {
      "image/png": "[encoded data removed]",
      "text/plain": [
       "<Figure size 432x288 with 1 Axes>"
      ]
     },
     "metadata": {
      "needs_background": "light"
     },
     "output_type": "display_data"
    }
   ],
   "source": [
    "sns.boxplot(df_cleaned['annual_inc'])\n",
    "plt.title(\"Income Distribution\")"
   ]
  },
  {
   "cell_type": "code",
   "execution_count": 32,
   "id": "27f65c1e",
   "metadata": {},
   "outputs": [
    {
     "data": {
      "text/plain": [
       "Text(0.5, 1.0, 'Income Distribution')"
      ]
     },
     "execution_count": 32,
     "metadata": {},
     "output_type": "execute_result"
    },
    {
     "data": {
      "image/png": "[encoded data removed]",
      "text/plain": [
       "<Figure size 432x288 with 1 Axes>"
      ]
     },
     "metadata": {
      "needs_background": "light"
     },
     "output_type": "display_data"
    }
   ],
   "source": [
    "sns.distplot(df_cleaned['annual_inc'])\n",
    "plt.title(\"Income Distribution\")"
   ]
  },
  {
   "cell_type": "markdown",
   "id": "bdde619c",
   "metadata": {},
   "source": [
    "Observation : Annual Income is right skewed and it has outliers\n"
   ]
  },
  {
   "cell_type": "code",
   "execution_count": 266,
   "id": "2172a4c8",
   "metadata": {},
   "outputs": [
    {
     "data": {
      "image/png": "[encoded data removed]",
      "text/plain": [
       "<Figure size 432x288 with 1 Axes>"
      ]
     },
     "metadata": {
      "needs_background": "light"
     },
     "output_type": "display_data"
    }
   ],
   "source": [
    "#df_cleaned['grade'] = df_cleaned['grade'].astype('category')\n",
    "sns.countplot(data=df_cleaned, x='purpose')\n",
    "plt.ylabel(\"Loan Status Count\")\n",
    "#plt.figure(figsize=(16, 6))\n",
    "plt.xticks(rotation=90)\n",
    "plt.show()"
   ]
  },
  {
   "cell_type": "code",
   "execution_count": 268,
   "id": "8dbf1e8f",
   "metadata": {},
   "outputs": [
    {
     "data": {
      "image/png": "[encoded data removed]",
      "text/plain": [
       "<Figure size 432x288 with 1 Axes>"
      ]
     },
     "metadata": {
      "needs_background": "light"
     },
     "output_type": "display_data"
    }
   ],
   "source": [
    "sns.barplot(data=df_cleaned, x='purpose',y='loan_status_numeric')\n",
    "plt.ylabel(\"Loan Status Count\")\n",
    "#plt.figure(figsize=(16, 6))\n",
    "plt.xticks(rotation=90)\n",
    "plt.show()"
   ]
  },
  {
   "cell_type": "markdown",
   "id": "e4efcc4c",
   "metadata": {},
   "source": [
    "# 3.2 Bivariate Analysis"
   ]
  },
  {
   "cell_type": "markdown",
   "id": "9aab1f6e",
   "metadata": {},
   "source": [
    "Creating function to plot graphs bsed on target variable- loan status"
   ]
  },
  {
   "cell_type": "code",
   "execution_count": 107,
   "id": "2dc43ef8",
   "metadata": {},
   "outputs": [],
   "source": [
    "#lets define a function to plot loan_status across categorical variables\n",
    "def plot_cat(cat_var):\n",
    "    sns.barplot(x=cat_var, y='loan_status_numeric', data=df_cleaned)\n",
    "    plt.show()\n",
    "    "
   ]
  },
  {
   "cell_type": "markdown",
   "id": "1fcc046c",
   "metadata": {},
   "source": [
    "# # Bivariate Analysis on Categorical variables"
   ]
  },
  {
   "cell_type": "code",
   "execution_count": 101,
   "id": "18a28d4d",
   "metadata": {},
   "outputs": [
    {
     "name": "stdout",
     "output_type": "stream",
     "text": [
      "Index(['term', 'grade', 'sub_grade', 'home_ownership', 'verification_status',\n",
      "       'issue_d', 'loan_status', 'purpose', 'addr_state'],\n",
      "      dtype='object')\n"
     ]
    }
   ],
   "source": [
    "categorical_columns = df_cleaned.select_dtypes(include=[\"object\"]).columns\n",
    "print(categorical_columns)"
   ]
  },
  {
   "cell_type": "code",
   "execution_count": 63,
   "id": "0e4a66ef",
   "metadata": {},
   "outputs": [
    {
     "data": {
      "text/plain": [
       "<Figure size 2160x720 with 0 Axes>"
      ]
     },
     "metadata": {},
     "output_type": "display_data"
    },
    {
     "data": {
      "image/png": "[encoded data removed]",
      "text/plain": [
       "<Figure size 432x288 with 1 Axes>"
      ]
     },
     "metadata": {
      "needs_background": "light"
     },
     "output_type": "display_data"
    }
   ],
   "source": [
    "percentage_df = df_cleaned.groupby([\"grade\"])[\"loan_status_numeric\"].value_counts(normalize=True).unstack() * 100\n",
    "plt.figure(figsize=(30, 10))\n",
    "percentage_df.plot(kind=\"bar\", stacked=True,colormap=\"Set1\")\n",
    "plt.title(\"Loan Status Distribution by Grade\")\n",
    "plt.xlabel(\"Grade\")\n",
    "plt.ylabel(\"Percentage\")\n",
    "plt.xticks(rotation=0)\n",
    "plt.legend(title=\"Loan Status\", labels=[\"Fully Paid\", \"Default\"])\n",
    "\n",
    "plt.show()"
   ]
  },
  {
   "cell_type": "markdown",
   "id": "20172ada",
   "metadata": {},
   "source": [
    "Conclusion: Clearly, as the grade of loan goes from A to G, the default rate increases. This is expected because the grade is decided by Lending Club based on the riskiness of the loan."
   ]
  },
  {
   "cell_type": "code",
   "execution_count": 102,
   "id": "87797321",
   "metadata": {},
   "outputs": [],
   "source": [
    "from datetime import datetime\n",
    "df_cleaned['issue_d'] = df_cleaned['issue_d'].apply(lambda x: datetime.strptime(x, '%b-%y'))"
   ]
  },
  {
   "cell_type": "code",
   "execution_count": 103,
   "id": "3b6086df",
   "metadata": {},
   "outputs": [],
   "source": [
    "# extracting month and year from issue_date\n",
    "df_cleaned['month'] = df_cleaned['issue_d'].apply(lambda x: x.month)\n",
    "df_cleaned['year'] = df_cleaned['issue_d'].apply(lambda x: x.year)"
   ]
  },
  {
   "cell_type": "code",
   "execution_count": 104,
   "id": "c5747086",
   "metadata": {},
   "outputs": [
    {
     "name": "stdout",
     "output_type": "stream",
     "text": [
      "Index(['term', 'grade', 'sub_grade', 'home_ownership', 'verification_status',\n",
      "       'loan_status', 'purpose', 'addr_state'],\n",
      "      dtype='object')\n"
     ]
    }
   ],
   "source": [
    "categorical_columns = df_cleaned.select_dtypes(include=[\"object\"]).columns\n",
    "print(categorical_columns)"
   ]
  },
  {
   "cell_type": "code",
   "execution_count": 465,
   "id": "aaa1f75f",
   "metadata": {},
   "outputs": [
    {
     "data": {
      "text/plain": [
       "<Figure size 2160x720 with 0 Axes>"
      ]
     },
     "metadata": {},
     "output_type": "display_data"
    },
    {
     "data": {
      "image/png": "[encoded data removed]",
      "text/plain": [
       "<Figure size 432x288 with 1 Axes>"
      ]
     },
     "metadata": {
      "needs_background": "light"
     },
     "output_type": "display_data"
    }
   ],
   "source": [
    "percentage_df = df_cleaned.groupby(\"term\")[\"loan_status_numeric\"].value_counts(normalize=True).unstack() * 100\n",
    "plt.figure(figsize=(30, 10))\n",
    "ax=percentage_df.plot(kind=\"bar\", stacked=True)\n",
    "custom_palette = [\"orange\", \"green\"]\n",
    "plt.title(\"Loan Status Distribution by Term\")\n",
    "plt.xlabel(\"Term\")\n",
    "plt.ylabel(\"Percentage\")\n",
    "plt.xticks(rotation=0)\n",
    "plt.legend(title=\"Loan Status\", labels=[\"Fully Paid\", \"Default\"])\n",
    "\n",
    "plt.show()"
   ]
  },
  {
   "cell_type": "markdown",
   "id": "9df1616b",
   "metadata": {},
   "source": [
    "Conclusion based on term column: 60 months loans default more than 36 months loans"
   ]
  },
  {
   "cell_type": "code",
   "execution_count": 464,
   "id": "afe740ad",
   "metadata": {},
   "outputs": [
    {
     "data": {
      "text/plain": [
       "<Figure size 2160x720 with 0 Axes>"
      ]
     },
     "metadata": {},
     "output_type": "display_data"
    },
    {
     "data": {
      "image/png": "[encoded data removed]",
      "text/plain": [
       "<Figure size 432x288 with 1 Axes>"
      ]
     },
     "metadata": {
      "needs_background": "light"
     },
     "output_type": "display_data"
    }
   ],
   "source": [
    "percentage_df = df_cleaned.groupby(\"home_ownership\")[\"loan_status_numeric\"].value_counts(normalize=True).unstack() * 100\n",
    "plt.figure(figsize=(30, 10))\n",
    "ax=percentage_df.plot(kind=\"bar\", stacked=True)\n",
    "custom_palette = [\"orange\", \"green\"]\n",
    "plt.title(\"Loan Status Distribution by home_ownership\")\n",
    "plt.xlabel(\"home_ownership\")\n",
    "plt.ylabel(\"Percentage\")\n",
    "plt.xticks(rotation=0)\n",
    "plt.legend(title=\"Loan Status\", labels=[\"Fully Paid\", \"Default\"])\n",
    "\n",
    "plt.show()"
   ]
  },
  {
   "cell_type": "markdown",
   "id": "ee428c58",
   "metadata": {},
   "source": [
    "Conclusion based on homeownersip column: Irrespective of whether someone have owned home or not, there is no variation on defaulter rate\n"
   ]
  },
  {
   "cell_type": "code",
   "execution_count": 108,
   "id": "02cd04d9",
   "metadata": {},
   "outputs": [
    {
     "data": {
      "image/png": "[encoded data removed]",
      "text/plain": [
       "<Figure size 432x288 with 1 Axes>"
      ]
     },
     "metadata": {
      "needs_background": "light"
     },
     "output_type": "display_data"
    }
   ],
   "source": [
    "# verification_status: surprisingly, verified loans default more than not verifiedb\n",
    "plot_cat('verification_status')"
   ]
  },
  {
   "cell_type": "code",
   "execution_count": 105,
   "id": "7e54ddf9",
   "metadata": {},
   "outputs": [
    {
     "data": {
      "text/plain": [
       "<Figure size 2160x720 with 0 Axes>"
      ]
     },
     "metadata": {},
     "output_type": "display_data"
    },
    {
     "data": {
      "image/png": "[encoded data removed]",
      "text/plain": [
       "<Figure size 432x288 with 1 Axes>"
      ]
     },
     "metadata": {
      "needs_background": "light"
     },
     "output_type": "display_data"
    }
   ],
   "source": [
    "percentage_df = df_cleaned.groupby(\"verification_status\")[\"loan_status_numeric\"].value_counts(normalize=True).unstack() * 100\n",
    "plt.figure(figsize=(30, 10))\n",
    "ax=percentage_df.plot(kind=\"bar\", stacked=True)\n",
    "custom_palette = [\"orange\", \"green\"]\n",
    "plt.title(\"Loan Status Distribution by Verification Status\")\n",
    "plt.xlabel(\"verification_status\")\n",
    "plt.ylabel(\"Percentage\")\n",
    "plt.xticks(rotation=0)\n",
    "plt.legend(title=\"Loan Status\", labels=[\"Fully Paid\", \"Default\"])\n",
    "\n",
    "for p in ax.patches:\n",
    "    ax.annotate(f'{p.get_height():.2f}%', (p.get_x() + p.get_width() / 2., p.get_y() + p.get_height()),\n",
    "                ha='center', va='center', fontsize=10, color='black', xytext=(0, 5),\n",
    "                textcoords='offset points')\n",
    "plt.show()"
   ]
  },
  {
   "attachments": {},
   "cell_type": "markdown",
   "id": "ae56bfdb",
   "metadata": {},
   "source": [
    "Conclusion: There is no much significant difference in defaulter rate irrespective of verified or not"
   ]
  },
  {
   "cell_type": "code",
   "execution_count": 422,
   "id": "d008e880",
   "metadata": {},
   "outputs": [
    {
     "data": {
      "text/plain": [
       "<Figure size 2160x720 with 0 Axes>"
      ]
     },
     "metadata": {},
     "output_type": "display_data"
    },
    {
     "data": {
      "image/png": "[encoded data removed]",
      "text/plain": [
       "<Figure size 432x288 with 1 Axes>"
      ]
     },
     "metadata": {
      "needs_background": "light"
     },
     "output_type": "display_data"
    }
   ],
   "source": [
    "percentage_df = df_cleaned.groupby(\"purpose\")[\"loan_status_numeric\"].value_counts(normalize=True).unstack() * 100\n",
    "plt.figure(figsize=(30, 10))\n",
    "ax=percentage_df.plot(kind=\"bar\", stacked=True)\n",
    "custom_palette = [\"orange\", \"green\"]\n",
    "sns.set_palette(custom_palette)\n",
    "plt.title(\"Loan Status Distribution by Purpose\")\n",
    "plt.xlabel(\"purpose\")\n",
    "plt.ylabel(\"Percentage\")\n",
    "plt.xticks(rotation=90)\n",
    "plt.legend(title=\"Loan Status\", labels=[\"Fully Paid\", \"Default\"])\n",
    "plt.show()"
   ]
  },
  {
   "cell_type": "markdown",
   "id": "bfe30705",
   "metadata": {},
   "source": [
    "Conclusion: Small business has high defaulter rate followed by renewable energy and education"
   ]
  },
  {
   "cell_type": "code",
   "execution_count": 426,
   "id": "d1f06051",
   "metadata": {},
   "outputs": [
    {
     "data": {
      "text/plain": [
       "<Axes: xlabel='addr_state', ylabel='loan_status_numeric'>"
      ]
     },
     "execution_count": 426,
     "metadata": {},
     "output_type": "execute_result"
    },
    {
     "data": {
      "image/png": "[encoded data removed]",
      "text/plain": [
       "<Figure size 1080x432 with 1 Axes>"
      ]
     },
     "metadata": {
      "needs_background": "light"
     },
     "output_type": "display_data"
    }
   ],
   "source": [
    "plt.figure(figsize=[15, 6])\n",
    "sns.barplot(x='addr_state', y='loan_status_numeric', data=df_cleaned, estimator=lambda x: sum(x) / len(x) * 100)"
   ]
  },
  {
   "cell_type": "code",
   "execution_count": 68,
   "id": "5528faa9",
   "metadata": {},
   "outputs": [
    {
     "data": {
      "text/plain": [
       "<Figure size 2160x720 with 0 Axes>"
      ]
     },
     "metadata": {},
     "output_type": "display_data"
    },
    {
     "data": {
      "image/png": "[encoded data removed]",
      "text/plain": [
       "<Figure size 432x288 with 1 Axes>"
      ]
     },
     "metadata": {
      "needs_background": "light"
     },
     "output_type": "display_data"
    }
   ],
   "source": [
    "percentage_df = df_cleaned.groupby(\"addr_state\")[\"loan_status_numeric\"].value_counts(normalize=True).unstack() * 100\n",
    "plt.figure(figsize=[30, 10])\n",
    "ax=percentage_df.plot(kind=\"bar\", stacked=True)\n",
    "custom_palette = [\"orange\", \"green\"]\n",
    "sns.set_palette(custom_palette)\n",
    "plt.title(\"Loan Status Distribution by State\")\n",
    "plt.xlabel(\"addr_state\", fontsize=6)\n",
    "plt.ylabel(\"Percentage\")\n",
    "plt.xticks(rotation=90)\n",
    "plt.legend(title=\"Loan Status\", labels=[\"Fully Paid\", \"Default\"])\n",
    "plt.show()"
   ]
  },
  {
   "cell_type": "markdown",
   "id": "df329fc3",
   "metadata": {},
   "source": [
    "Conclusion: NE(Nebraska) state has higher defaulter rate"
   ]
  },
  {
   "cell_type": "code",
   "execution_count": 77,
   "id": "e493a4b9",
   "metadata": {},
   "outputs": [
    {
     "name": "stdout",
     "output_type": "stream",
     "text": [
      "Index(['grade', 'sub_grade', 'home_ownership', 'verification_status',\n",
      "       'issue_d', 'purpose', 'zip_code'],\n",
      "      dtype='object')\n"
     ]
    }
   ],
   "source": [
    "categorical_columns = df_cleaned.select_dtypes(include=[\"object\"]).columns\n",
    "print(categorical_columns)"
   ]
  },
  {
   "cell_type": "markdown",
   "id": "e9171351",
   "metadata": {},
   "source": [
    "# 1.3 Bivariate analysis - continous"
   ]
  },
  {
   "cell_type": "code",
   "execution_count": 434,
   "id": "353ae12b",
   "metadata": {},
   "outputs": [
    {
     "data": {
      "image/png": "[encoded data removed]",
      "text/plain": [
       "<Figure size 432x288 with 1 Axes>"
      ]
     },
     "metadata": {
      "needs_background": "light"
     },
     "output_type": "display_data"
    }
   ],
   "source": [
    "#Hypothesis: Higher interest rates might lead to a higher likelihood of default.\n",
    "sns.boxplot(x = 'loan_status', y = 'int_rate' ,data=df_cleaned)\n",
    "plt.title(\"Interest Rate Distribution by Loan Status\")\n",
    "plt.show()"
   ]
  },
  {
   "cell_type": "markdown",
   "id": "21be793f",
   "metadata": {},
   "source": [
    "Conclusion: Majority of the Defaulter's has higher interest rate compared to fully paid customers.Upper 25% of defaulters has higher interest rate than fully paid customer's interest rate"
   ]
  },
  {
   "cell_type": "code",
   "execution_count": 85,
   "id": "bf94914a",
   "metadata": {},
   "outputs": [
    {
     "data": {
      "text/plain": [
       "<Axes: xlabel='loan_status_numeric', ylabel='annual_inc'>"
      ]
     },
     "execution_count": 85,
     "metadata": {},
     "output_type": "execute_result"
    },
    {
     "data": {
      "image/png": "[encoded data removed]",
      "text/plain": [
       "<Figure size 432x288 with 1 Axes>"
      ]
     },
     "metadata": {
      "needs_background": "light"
     },
     "output_type": "display_data"
    }
   ],
   "source": [
    "sns.boxplot(x = 'loan_status_numeric', y = 'annual_inc' ,data=df_cleaned)"
   ]
  },
  {
   "cell_type": "code",
   "execution_count": 87,
   "id": "a8139b94",
   "metadata": {},
   "outputs": [
    {
     "data": {
      "text/plain": [
       "0    24000.0\n",
       "1    30000.0\n",
       "2    12252.0\n",
       "3    49200.0\n",
       "5    36000.0\n",
       "Name: annual_inc, dtype: float64"
      ]
     },
     "execution_count": 87,
     "metadata": {},
     "output_type": "execute_result"
    }
   ],
   "source": [
    "df_cleaned['annual_inc'].head()"
   ]
  },
  {
   "cell_type": "code",
   "execution_count": 435,
   "id": "94bad9ee",
   "metadata": {},
   "outputs": [
    {
     "data": {
      "image/png": "[encoded data removed]",
      "text/plain": [
       "<Figure size 432x288 with 1 Axes>"
      ]
     },
     "metadata": {
      "needs_background": "light"
     },
     "output_type": "display_data"
    }
   ],
   "source": [
    "df_cleaned_inc_outlier = df_cleaned[df_cleaned['annual_inc'] < 100000]\n",
    "#Analyze the relationship between loan status and salary\n",
    "sns.boxplot(x = 'loan_status', y = 'annual_inc' ,data=df_cleaned_inc_outlier)\n",
    "plt.title(\"Annual Income Distribution by Loan Status\")\n",
    "plt.show()"
   ]
  },
  {
   "attachments": {},
   "cell_type": "markdown",
   "id": "0c89d3fa",
   "metadata": {},
   "source": [
    "Conclusion:Higher annual income might slightly reduce the likelihood of default.\n"
   ]
  },
  {
   "cell_type": "code",
   "execution_count": 89,
   "id": "d67cd2c0",
   "metadata": {},
   "outputs": [
    {
     "name": "stdout",
     "output_type": "stream",
     "text": [
      "Index(['loan_amnt', 'funded_amnt', 'funded_amnt_inv', 'term', 'int_rate',\n",
      "       'installment', 'emp_length', 'annual_inc', 'dti',\n",
      "       'pub_rec_bankruptcies', 'loan_status_numeric'],\n",
      "      dtype='object')\n"
     ]
    }
   ],
   "source": [
    "print(continuous_columns)"
   ]
  },
  {
   "cell_type": "code",
   "execution_count": 115,
   "id": "52eae62b",
   "metadata": {},
   "outputs": [
    {
     "data": {
      "image/png": "[encoded data removed]",
      "text/plain": [
       "<Figure size 432x288 with 1 Axes>"
      ]
     },
     "metadata": {
      "needs_background": "light"
     },
     "output_type": "display_data"
    }
   ],
   "source": [
    "#Hypothesis:The length of employment could reflect stability and the ability to repay loans. Shorter employment lengths might be associated with higher default rates.\n",
    "sns.boxplot(x = 'loan_status', y = 'emp_length' ,data=df_cleaned)\n",
    "plt.title(\"Employment length Distribution by Loan Status\")\n",
    "plt.show()"
   ]
  },
  {
   "cell_type": "markdown",
   "id": "48b9ecf3",
   "metadata": {},
   "source": [
    "Conclusion:  Median of Defaulter's employment length is higher than fully paid customers. \n",
    "For fully paid customers we have more values between 4 and 9 , where as defauters's employement length are kind of equally distributed. \n",
    "\n",
    "emp_length is not much influencing loan_status."
   ]
  },
  {
   "cell_type": "code",
   "execution_count": 437,
   "id": "d3fc69cf",
   "metadata": {},
   "outputs": [
    {
     "data": {
      "image/png": "[encoded data removed]",
      "text/plain": [
       "<Figure size 432x288 with 1 Axes>"
      ]
     },
     "metadata": {
      "needs_background": "light"
     },
     "output_type": "display_data"
    }
   ],
   "source": [
    "sns.boxplot(x = 'loan_status', y = 'dti' ,data=df_cleaned)\n",
    "plt.title(\"DTI Distribution by Loan Status\")\n",
    "plt.show()"
   ]
  },
  {
   "cell_type": "markdown",
   "id": "cc3b1c7a",
   "metadata": {},
   "source": [
    "Conclusion:  Higher DTI ratios might have a small impact on default rates."
   ]
  },
  {
   "cell_type": "code",
   "execution_count": 438,
   "id": "a05d8342",
   "metadata": {},
   "outputs": [
    {
     "data": {
      "image/png": "[encoded data removed]",
      "text/plain": [
       "<Figure size 432x288 with 1 Axes>"
      ]
     },
     "metadata": {
      "needs_background": "light"
     },
     "output_type": "display_data"
    }
   ],
   "source": [
    "sns.boxplot(x = 'loan_status', y = 'funded_amnt_inv' ,data=df_cleaned)\n",
    "plt.title(\"Amount funded by investor's Distribution by Loan Status\")\n",
    "plt.show()"
   ]
  },
  {
   "attachments": {},
   "cell_type": "markdown",
   "id": "e874887e",
   "metadata": {},
   "source": [
    "Conclusion:The impact of funded_amnt_inv on default rates appears to be minimal. Defaulter’s upper amount range increased compared to fully paid customers."
   ]
  },
  {
   "cell_type": "code",
   "execution_count": 439,
   "id": "5b942f8a",
   "metadata": {},
   "outputs": [
    {
     "data": {
      "image/png": "[encoded data removed]",
      "text/plain": [
       "<Figure size 432x288 with 1 Axes>"
      ]
     },
     "metadata": {
      "needs_background": "light"
     },
     "output_type": "display_data"
    }
   ],
   "source": [
    "sns.boxplot(x = 'loan_status', y = 'funded_amnt' ,data=df_cleaned)\n",
    "plt.title(\"Amount funded Distribution by Loan Status\")\n",
    "plt.show()"
   ]
  },
  {
   "attachments": {},
   "cell_type": "markdown",
   "id": "7492e022",
   "metadata": {},
   "source": [
    "Conclusion: Like with loan_amnt, higher funded amounts might have a slight impact on default rates.\n",
    " Defaulter’s upper amount range increased compared to fully paid customers."
   ]
  },
  {
   "cell_type": "code",
   "execution_count": 111,
   "id": "b70df4b3",
   "metadata": {},
   "outputs": [
    {
     "data": {
      "text/plain": [
       "1305.19"
      ]
     },
     "execution_count": 111,
     "metadata": {},
     "output_type": "execute_result"
    }
   ],
   "source": [
    "df_cleaned['installment'].max()"
   ]
  },
  {
   "cell_type": "code",
   "execution_count": 452,
   "id": "035381ac",
   "metadata": {},
   "outputs": [
    {
     "data": {
      "image/png": "[encoded data removed]",
      "text/plain": [
       "<Figure size 432x288 with 1 Axes>"
      ]
     },
     "metadata": {
      "needs_background": "light"
     },
     "output_type": "display_data"
    }
   ],
   "source": [
    "sns.boxplot(x = 'loan_status', y = 'installment' ,data=df_cleaned)\n",
    "plt.title(\"Installment Distribution by Loan Status\")\n",
    "plt.show()"
   ]
  },
  {
   "attachments": {},
   "cell_type": "markdown",
   "id": "772d09fb",
   "metadata": {},
   "source": [
    "Conclusion: The impact of installment on default rates seems to be minimal.\n",
    "1) Both IQR box size difference is relatively small, it indicates less difference in the variability (spread) of 'installment' amounts between the two loan statuses.\n",
    " 2) Defaulter’s upper installment range increased compared to fully paid customers.\n"
   ]
  },
  {
   "cell_type": "code",
   "execution_count": 113,
   "id": "8f55144e",
   "metadata": {},
   "outputs": [
    {
     "data": {
      "text/plain": [
       "count    37544.000000\n",
       "mean       324.650164\n",
       "std        208.901055\n",
       "min         15.690000\n",
       "25%        167.370000\n",
       "50%        280.000000\n",
       "75%        428.942500\n",
       "max       1305.190000\n",
       "Name: installment, dtype: float64"
      ]
     },
     "execution_count": 113,
     "metadata": {},
     "output_type": "execute_result"
    }
   ],
   "source": [
    "df_cleaned['installment'].describe()"
   ]
  },
  {
   "cell_type": "code",
   "execution_count": 453,
   "id": "09bfd5df",
   "metadata": {},
   "outputs": [
    {
     "data": {
      "image/png": "[encoded data removed]",
      "text/plain": [
       "<Figure size 432x288 with 1 Axes>"
      ]
     },
     "metadata": {
      "needs_background": "light"
     },
     "output_type": "display_data"
    }
   ],
   "source": [
    "#Hypothesis: The amount of the loan could be a strong indicator. \n",
    "sns.boxplot(x = 'loan_status', y = 'loan_amnt' ,data=df_cleaned)\n",
    "plt.title(\"Loan Amount Distribution by Loan Status\")\n",
    "plt.show()"
   ]
  },
  {
   "attachments": {},
   "cell_type": "markdown",
   "id": "1e62f946",
   "metadata": {},
   "source": [
    "Conclusion:\n",
    "Higher loan amounts might slightly increase the chance of default, but the effect is minimal\n",
    "Max people who fully paid loan has lesser loan amount range. Both IQR box sizes and upper range is different, it indicates a difference in the variability (spread) of loan amount. "
   ]
  },
  {
   "cell_type": "code",
   "execution_count": 109,
   "id": "7b0a0823",
   "metadata": {},
   "outputs": [],
   "source": [
    "df_cleaned['year']=df_cleaned['year'].astype('category')"
   ]
  },
  {
   "cell_type": "code",
   "execution_count": 110,
   "id": "9ed55c37",
   "metadata": {},
   "outputs": [
    {
     "data": {
      "text/plain": [
       "<Axes: xlabel='year', ylabel='loan_status_numeric'>"
      ]
     },
     "execution_count": 110,
     "metadata": {},
     "output_type": "execute_result"
    },
    {
     "data": {
      "image/png": "[encoded data removed]",
      "text/plain": [
       "<Figure size 432x288 with 1 Axes>"
      ]
     },
     "metadata": {
      "needs_background": "light"
     },
     "output_type": "display_data"
    }
   ],
   "source": [
    "sns.barplot(y = 'loan_status_numeric', x = 'year' ,data=df_cleaned)"
   ]
  },
  {
   "cell_type": "code",
   "execution_count": 475,
   "id": "4998af17",
   "metadata": {},
   "outputs": [
    {
     "data": {
      "text/html": [
       "<div>\n",
       "<style scoped>\n",
       "    .dataframe tbody tr th:only-of-type {\n",
       "        vertical-align: middle;\n",
       "    }\n",
       "\n",
       "    .dataframe tbody tr th {\n",
       "        vertical-align: top;\n",
       "    }\n",
       "\n",
       "    .dataframe thead th {\n",
       "        text-align: right;\n",
       "    }\n",
       "</style>\n",
       "<table border=\"1\" class=\"dataframe\">\n",
       "  <thead>\n",
       "    <tr style=\"text-align: right;\">\n",
       "      <th>loan_status_numeric</th>\n",
       "      <th>0</th>\n",
       "      <th>1</th>\n",
       "    </tr>\n",
       "    <tr>\n",
       "      <th>year</th>\n",
       "      <th></th>\n",
       "      <th></th>\n",
       "    </tr>\n",
       "  </thead>\n",
       "  <tbody>\n",
       "    <tr>\n",
       "      <th>2007</th>\n",
       "      <td>82.071713</td>\n",
       "      <td>17.928287</td>\n",
       "    </tr>\n",
       "    <tr>\n",
       "      <th>2008</th>\n",
       "      <td>84.186940</td>\n",
       "      <td>15.813060</td>\n",
       "    </tr>\n",
       "    <tr>\n",
       "      <th>2009</th>\n",
       "      <td>87.404580</td>\n",
       "      <td>12.595420</td>\n",
       "    </tr>\n",
       "    <tr>\n",
       "      <th>2010</th>\n",
       "      <td>87.417514</td>\n",
       "      <td>12.582486</td>\n",
       "    </tr>\n",
       "    <tr>\n",
       "      <th>2011</th>\n",
       "      <td>84.334125</td>\n",
       "      <td>15.665875</td>\n",
       "    </tr>\n",
       "  </tbody>\n",
       "</table>\n",
       "</div>"
      ],
      "text/plain": [
       "loan_status_numeric          0          1\n",
       "year                                     \n",
       "2007                 82.071713  17.928287\n",
       "2008                 84.186940  15.813060\n",
       "2009                 87.404580  12.595420\n",
       "2010                 87.417514  12.582486\n",
       "2011                 84.334125  15.665875"
      ]
     },
     "execution_count": 475,
     "metadata": {},
     "output_type": "execute_result"
    }
   ],
   "source": [
    "df_cleaned.groupby(\"year\")[\"loan_status_numeric\"].value_counts(normalize=True).unstack() * 100"
   ]
  },
  {
   "cell_type": "code",
   "execution_count": 111,
   "id": "af5d46b6",
   "metadata": {},
   "outputs": [
    {
     "data": {
      "text/plain": [
       "<Figure size 2160x720 with 0 Axes>"
      ]
     },
     "metadata": {},
     "output_type": "display_data"
    },
    {
     "data": {
      "image/png": "[encoded data removed]",
      "text/plain": [
       "<Figure size 432x288 with 1 Axes>"
      ]
     },
     "metadata": {
      "needs_background": "light"
     },
     "output_type": "display_data"
    }
   ],
   "source": [
    "# lets compare the default rates across years\n",
    "# the default rate had suddenly dipped in 2011\n",
    "\n",
    "#sns.barplot(y = 'loan_status_numeric', x = 'year' ,data=df_cleaned)\n",
    "\n",
    "\n",
    "percentage_df = df_cleaned.groupby(\"year\")[\"loan_status_numeric\"].value_counts(normalize=True).unstack() * 100\n",
    "plt.figure(figsize=(30, 10))\n",
    "percentage_df.plot(kind=\"bar\", stacked=True, colormap=\"Set1\")\n",
    "plt.title(\"Loan Status Distribution by Year\")\n",
    "plt.xlabel(\"Year\")\n",
    "plt.ylabel(\"Percentage\")\n",
    "plt.xticks(rotation=0)\n",
    "plt.legend(title=\"Loan Status\", labels=[\"Fully Paid\", \"Default\"])\n",
    "\n",
    "plt.show()"
   ]
  },
  {
   "cell_type": "markdown",
   "id": "1abc5e90",
   "metadata": {},
   "source": [
    "Conclusion:The defaulter rate had suddenly dipped in 2011 inspite of hike in 2009 & 2010"
   ]
  },
  {
   "cell_type": "code",
   "execution_count": 79,
   "id": "92750d6c",
   "metadata": {},
   "outputs": [],
   "source": [
    "df_cleaned['loan_status_count']=df_cleaned.groupby(['year','loan_status'])['loan_status'].transform('count')\n"
   ]
  },
  {
   "cell_type": "code",
   "execution_count": 80,
   "id": "83b685a5",
   "metadata": {},
   "outputs": [
    {
     "data": {
      "text/html": [
       "<div>\n",
       "<style scoped>\n",
       "    .dataframe tbody tr th:only-of-type {\n",
       "        vertical-align: middle;\n",
       "    }\n",
       "\n",
       "    .dataframe tbody tr th {\n",
       "        vertical-align: top;\n",
       "    }\n",
       "\n",
       "    .dataframe thead th {\n",
       "        text-align: right;\n",
       "    }\n",
       "</style>\n",
       "<table border=\"1\" class=\"dataframe\">\n",
       "  <thead>\n",
       "    <tr style=\"text-align: right;\">\n",
       "      <th>year</th>\n",
       "      <th>2007</th>\n",
       "      <th>2008</th>\n",
       "      <th>2009</th>\n",
       "      <th>2010</th>\n",
       "      <th>2011</th>\n",
       "    </tr>\n",
       "    <tr>\n",
       "      <th>loan_status</th>\n",
       "      <th></th>\n",
       "      <th></th>\n",
       "      <th></th>\n",
       "      <th></th>\n",
       "      <th></th>\n",
       "    </tr>\n",
       "  </thead>\n",
       "  <tbody>\n",
       "    <tr>\n",
       "      <th>Charged Off</th>\n",
       "      <td>45</td>\n",
       "      <td>247</td>\n",
       "      <td>594</td>\n",
       "      <td>1411</td>\n",
       "      <td>3102</td>\n",
       "    </tr>\n",
       "    <tr>\n",
       "      <th>Fully Paid</th>\n",
       "      <td>206</td>\n",
       "      <td>1315</td>\n",
       "      <td>4122</td>\n",
       "      <td>9803</td>\n",
       "      <td>16699</td>\n",
       "    </tr>\n",
       "  </tbody>\n",
       "</table>\n",
       "</div>"
      ],
      "text/plain": [
       "year         2007  2008  2009  2010   2011\n",
       "loan_status                               \n",
       "Charged Off    45   247   594  1411   3102\n",
       "Fully Paid    206  1315  4122  9803  16699"
      ]
     },
     "execution_count": 80,
     "metadata": {},
     "output_type": "execute_result"
    }
   ],
   "source": [
    "df_cleaned.pivot_table(values=\"loan_status_count\", index=\"loan_status\", columns=\"year\")"
   ]
  },
  {
   "cell_type": "code",
   "execution_count": 88,
   "id": "d67c1b2d",
   "metadata": {},
   "outputs": [
    {
     "data": {
      "text/plain": [
       "loan_status_numeric\n",
       "0    16699\n",
       "1     3102\n",
       "Name: count, dtype: int64"
      ]
     },
     "execution_count": 88,
     "metadata": {},
     "output_type": "execute_result"
    }
   ],
   "source": [
    "df_cleaned_2011=df_cleaned[df_cleaned['year']==2011]\n",
    "df_cleaned_2011['loan_status_numeric'].value_counts()"
   ]
  },
  {
   "cell_type": "code",
   "execution_count": 83,
   "id": "cbf82240",
   "metadata": {},
   "outputs": [],
   "source": [
    "pivot_table =df_cleaned.pivot_table(values=\"loan_status_count\", index=\"loan_status\", columns=\"year\")"
   ]
  },
  {
   "cell_type": "code",
   "execution_count": 84,
   "id": "79135859",
   "metadata": {},
   "outputs": [
    {
     "data": {
      "text/plain": [
       "<Axes: xlabel='loan_status'>"
      ]
     },
     "execution_count": 84,
     "metadata": {},
     "output_type": "execute_result"
    },
    {
     "data": {
      "image/png": "[encoded data removed]",
      "text/plain": [
       "<Figure size 720x432 with 1 Axes>"
      ]
     },
     "metadata": {
      "needs_background": "light"
     },
     "output_type": "display_data"
    }
   ],
   "source": [
    "pivot_table.plot(kind=\"bar\", figsize=(10, 6))"
   ]
  },
  {
   "cell_type": "markdown",
   "id": "81aebe61",
   "metadata": {},
   "source": [
    "Conclusion: We can conclude that the  defaulters rate continuously increase every year"
   ]
  },
  {
   "cell_type": "code",
   "execution_count": 99,
   "id": "3c19d648",
   "metadata": {},
   "outputs": [],
   "source": [
    "# comparing default rates across months\n",
    "pivot_table =df_cleaned.pivot_table(values=\"loan_status_count\", index=\"loan_status\", columns=\"month\")"
   ]
  },
  {
   "cell_type": "code",
   "execution_count": 98,
   "id": "0efe0560",
   "metadata": {},
   "outputs": [
    {
     "data": {
      "text/plain": [
       "<Axes: xlabel='loan_status'>"
      ]
     },
     "execution_count": 98,
     "metadata": {},
     "output_type": "execute_result"
    },
    {
     "data": {
      "image/png": "[encoded data removed]",
      "text/plain": [
       "<Figure size 720x432 with 1 Axes>"
      ]
     },
     "metadata": {
      "needs_background": "light"
     },
     "output_type": "display_data"
    }
   ],
   "source": [
    "pivot_table.plot(kind=\"bar\", figsize=(10, 6))"
   ]
  },
  {
   "cell_type": "markdown",
   "id": "e9450bdd",
   "metadata": {},
   "source": [
    "Conclusion: Defaulter rate is not much varying across months of the year"
   ]
  },
  {
   "cell_type": "code",
   "execution_count": 77,
   "id": "db09722a",
   "metadata": {},
   "outputs": [
    {
     "data": {
      "text/plain": [
       "1062450226"
      ]
     },
     "execution_count": 77,
     "metadata": {},
     "output_type": "execute_result"
    }
   ],
   "source": [
    "df_cleaned['loan_status_count'].sum()"
   ]
  },
  {
   "cell_type": "code",
   "execution_count": 112,
   "id": "f9c39c67",
   "metadata": {},
   "outputs": [
    {
     "data": {
      "text/plain": [
       "<Axes: >"
      ]
     },
     "execution_count": 112,
     "metadata": {},
     "output_type": "execute_result"
    },
    {
     "data": {
      "image/png": "[encoded data removed]",
      "text/plain": [
       "<Figure size 720x576 with 2 Axes>"
      ]
     },
     "metadata": {
      "needs_background": "light"
     },
     "output_type": "display_data"
    }
   ],
   "source": [
    "#correlation\n",
    "import matplotlib.pyplot as plt\n",
    "f, ax = plt.subplots(figsize=(10, 8))\n",
    "corr = df_cleaned[continuous_columns].corr()\n",
    "sns.heatmap(corr,cmap=sns.diverging_palette(220, 10, as_cmap=True),vmin=-1.0, vmax=1.0,square=True, ax=ax)"
   ]
  },
  {
   "cell_type": "code",
   "execution_count": 113,
   "id": "2c128e50",
   "metadata": {},
   "outputs": [],
   "source": [
    "df_cleaned[continuous_columns] = df_cleaned[continuous_columns].astype(float)"
   ]
  },
  {
   "cell_type": "code",
   "execution_count": 114,
   "id": "dc25c7cb",
   "metadata": {},
   "outputs": [
    {
     "data": {
      "text/html": [
       "<div>\n",
       "<style scoped>\n",
       "    .dataframe tbody tr th:only-of-type {\n",
       "        vertical-align: middle;\n",
       "    }\n",
       "\n",
       "    .dataframe tbody tr th {\n",
       "        vertical-align: top;\n",
       "    }\n",
       "\n",
       "    .dataframe thead th {\n",
       "        text-align: right;\n",
       "    }\n",
       "</style>\n",
       "<table border=\"1\" class=\"dataframe\">\n",
       "  <thead>\n",
       "    <tr style=\"text-align: right;\">\n",
       "      <th></th>\n",
       "      <th>loan_amnt</th>\n",
       "      <th>funded_amnt</th>\n",
       "      <th>funded_amnt_inv</th>\n",
       "      <th>int_rate</th>\n",
       "      <th>installment</th>\n",
       "      <th>emp_length</th>\n",
       "      <th>annual_inc</th>\n",
       "      <th>dti</th>\n",
       "      <th>loan_status_numeric</th>\n",
       "    </tr>\n",
       "  </thead>\n",
       "  <tbody>\n",
       "    <tr>\n",
       "      <th>loan_amnt</th>\n",
       "      <td>1.000000</td>\n",
       "      <td>0.981603</td>\n",
       "      <td>0.936871</td>\n",
       "      <td>0.299237</td>\n",
       "      <td>0.931686</td>\n",
       "      <td>0.148267</td>\n",
       "      <td>0.266282</td>\n",
       "      <td>0.061402</td>\n",
       "      <td>0.062680</td>\n",
       "    </tr>\n",
       "    <tr>\n",
       "      <th>funded_amnt</th>\n",
       "      <td>0.981603</td>\n",
       "      <td>1.000000</td>\n",
       "      <td>0.955300</td>\n",
       "      <td>0.302955</td>\n",
       "      <td>0.957721</td>\n",
       "      <td>0.147930</td>\n",
       "      <td>0.261959</td>\n",
       "      <td>0.061251</td>\n",
       "      <td>0.059535</td>\n",
       "    </tr>\n",
       "    <tr>\n",
       "      <th>funded_amnt_inv</th>\n",
       "      <td>0.936871</td>\n",
       "      <td>0.955300</td>\n",
       "      <td>1.000000</td>\n",
       "      <td>0.295697</td>\n",
       "      <td>0.904110</td>\n",
       "      <td>0.158852</td>\n",
       "      <td>0.249320</td>\n",
       "      <td>0.070007</td>\n",
       "      <td>0.040097</td>\n",
       "    </tr>\n",
       "    <tr>\n",
       "      <th>int_rate</th>\n",
       "      <td>0.299237</td>\n",
       "      <td>0.302955</td>\n",
       "      <td>0.295697</td>\n",
       "      <td>1.000000</td>\n",
       "      <td>0.274791</td>\n",
       "      <td>-0.000602</td>\n",
       "      <td>0.046092</td>\n",
       "      <td>0.112188</td>\n",
       "      <td>0.213497</td>\n",
       "    </tr>\n",
       "    <tr>\n",
       "      <th>installment</th>\n",
       "      <td>0.931686</td>\n",
       "      <td>0.957721</td>\n",
       "      <td>0.904110</td>\n",
       "      <td>0.274791</td>\n",
       "      <td>1.000000</td>\n",
       "      <td>0.121101</td>\n",
       "      <td>0.264684</td>\n",
       "      <td>0.050727</td>\n",
       "      <td>0.029868</td>\n",
       "    </tr>\n",
       "    <tr>\n",
       "      <th>emp_length</th>\n",
       "      <td>0.148267</td>\n",
       "      <td>0.147930</td>\n",
       "      <td>0.158852</td>\n",
       "      <td>-0.000602</td>\n",
       "      <td>0.121101</td>\n",
       "      <td>1.000000</td>\n",
       "      <td>0.111107</td>\n",
       "      <td>0.048619</td>\n",
       "      <td>0.016656</td>\n",
       "    </tr>\n",
       "    <tr>\n",
       "      <th>annual_inc</th>\n",
       "      <td>0.266282</td>\n",
       "      <td>0.261959</td>\n",
       "      <td>0.249320</td>\n",
       "      <td>0.046092</td>\n",
       "      <td>0.264684</td>\n",
       "      <td>0.111107</td>\n",
       "      <td>1.000000</td>\n",
       "      <td>-0.123582</td>\n",
       "      <td>-0.038501</td>\n",
       "    </tr>\n",
       "    <tr>\n",
       "      <th>dti</th>\n",
       "      <td>0.061402</td>\n",
       "      <td>0.061251</td>\n",
       "      <td>0.070007</td>\n",
       "      <td>0.112188</td>\n",
       "      <td>0.050727</td>\n",
       "      <td>0.048619</td>\n",
       "      <td>-0.123582</td>\n",
       "      <td>1.000000</td>\n",
       "      <td>0.042803</td>\n",
       "    </tr>\n",
       "    <tr>\n",
       "      <th>loan_status_numeric</th>\n",
       "      <td>0.062680</td>\n",
       "      <td>0.059535</td>\n",
       "      <td>0.040097</td>\n",
       "      <td>0.213497</td>\n",
       "      <td>0.029868</td>\n",
       "      <td>0.016656</td>\n",
       "      <td>-0.038501</td>\n",
       "      <td>0.042803</td>\n",
       "      <td>1.000000</td>\n",
       "    </tr>\n",
       "  </tbody>\n",
       "</table>\n",
       "</div>"
      ],
      "text/plain": [
       "                     loan_amnt  funded_amnt  funded_amnt_inv  int_rate  \\\n",
       "loan_amnt             1.000000     0.981603         0.936871  0.299237   \n",
       "funded_amnt           0.981603     1.000000         0.955300  0.302955   \n",
       "funded_amnt_inv       0.936871     0.955300         1.000000  0.295697   \n",
       "int_rate              0.299237     0.302955         0.295697  1.000000   \n",
       "installment           0.931686     0.957721         0.904110  0.274791   \n",
       "emp_length            0.148267     0.147930         0.158852 -0.000602   \n",
       "annual_inc            0.266282     0.261959         0.249320  0.046092   \n",
       "dti                   0.061402     0.061251         0.070007  0.112188   \n",
       "loan_status_numeric   0.062680     0.059535         0.040097  0.213497   \n",
       "\n",
       "                     installment  emp_length  annual_inc       dti  \\\n",
       "loan_amnt               0.931686    0.148267    0.266282  0.061402   \n",
       "funded_amnt             0.957721    0.147930    0.261959  0.061251   \n",
       "funded_amnt_inv         0.904110    0.158852    0.249320  0.070007   \n",
       "int_rate                0.274791   -0.000602    0.046092  0.112188   \n",
       "installment             1.000000    0.121101    0.264684  0.050727   \n",
       "emp_length              0.121101    1.000000    0.111107  0.048619   \n",
       "annual_inc              0.264684    0.111107    1.000000 -0.123582   \n",
       "dti                     0.050727    0.048619   -0.123582  1.000000   \n",
       "loan_status_numeric     0.029868    0.016656   -0.038501  0.042803   \n",
       "\n",
       "                     loan_status_numeric  \n",
       "loan_amnt                       0.062680  \n",
       "funded_amnt                     0.059535  \n",
       "funded_amnt_inv                 0.040097  \n",
       "int_rate                        0.213497  \n",
       "installment                     0.029868  \n",
       "emp_length                      0.016656  \n",
       "annual_inc                     -0.038501  \n",
       "dti                             0.042803  \n",
       "loan_status_numeric             1.000000  "
      ]
     },
     "execution_count": 114,
     "metadata": {},
     "output_type": "execute_result"
    }
   ],
   "source": [
    "#correlation metrix for continuous variables\n",
    "df_cleaned[continuous_columns].corr()"
   ]
  },
  {
   "cell_type": "markdown",
   "id": "3c84d751",
   "metadata": {},
   "source": [
    "loan_amnt: A correlation of 0.06268 suggests a very weak positive linear relationship between the loan amount and the likelihood of loan default. This could imply that higher loan amounts might slightly increase the chance of default, but the effect is minimal.\n",
    "\n",
    "funded_amnt: A correlation of 0.059535 indicates a similarly very weak positive linear relationship between the funded loan amount and loan default. Like with loan_amnt, higher funded amounts might have a slight impact on default rates.\n",
    "\n",
    "funded_amnt_inv: A correlation of 0.040097 suggests a very weak positive linear relationship between the funded loan amount by investors and loan default. The impact of funded_amnt_inv on default rates appears to be minimal.\n",
    "\n",
    "term: A correlation of 0.1752 indicates a moderate positive linear relationship between the loan term and loan default. Longer loan terms might be associated with a higher likelihood of default.\n",
    "\n",
    "int_rate: A correlation of 0.213497 suggests a moderate positive linear relationship between the interest rate and loan default. Higher interest rates might be associated with a higher chance of default.\n",
    "\n",
    "installment: A correlation of 0.029868 indicates a very weak positive linear relationship between the installment amount and loan default. The impact of installment on default rates seems to be minimal.\n",
    "\n",
    "emp_length: A correlation of 0.016656 suggests a very weak positive linear relationship between employment length and loan default. There seems to be a minimal impact of employment length on default rates.\n",
    "\n",
    "annual_inc: A correlation of -0.038501 suggests a very weak negative linear relationship between annual income and loan default. However, this negative correlation is also weak, implying that higher annual income might slightly reduce the likelihood of default.\n",
    "\n",
    "dti: A correlation of 0.042803 indicates a very weak positive linear relationship between debt-to-income ratio (DTI) and loan default. Higher DTI ratios might have a small impact on default rates.\n",
    "\n",
    "pub_rec_bankruptcies: A correlation of 0.045625 suggests a very weak positive linear relationship between the number of public record bankruptcies and loan default. A higher number of public record bankruptcies might have a minor impact on default rates."
   ]
  },
  {
   "cell_type": "markdown",
   "id": "b27f1e32",
   "metadata": {},
   "source": [
    "# 3.3 Segmented Analysis"
   ]
  },
  {
   "cell_type": "markdown",
   "id": "a023cbc7",
   "metadata": {},
   "source": [
    "# 3.3.1.Continuous variables"
   ]
  },
  {
   "cell_type": "markdown",
   "id": "e3a5e4fd",
   "metadata": {},
   "source": [
    "Let's now analyse how the default rate varies across continuous variables."
   ]
  },
  {
   "cell_type": "code",
   "execution_count": 35,
   "id": "7ea39c89",
   "metadata": {},
   "outputs": [
    {
     "data": {
      "text/plain": [
       "<seaborn.axisgrid.FacetGrid at 0x18b175df130>"
      ]
     },
     "execution_count": 35,
     "metadata": {},
     "output_type": "execute_result"
    },
    {
     "data": {
      "image/png": "[encoded data removed]",
      "text/plain": [
       "<Figure size 360x360 with 1 Axes>"
      ]
     },
     "metadata": {
      "needs_background": "light"
     },
     "output_type": "display_data"
    }
   ],
   "source": [
    "sns.displot(df_cleaned['loan_amnt'])"
   ]
  },
  {
   "cell_type": "markdown",
   "id": "3a728f24",
   "metadata": {},
   "source": [
    "The easiest way to analyse how default rates vary across continous variables is to bin the variables into discrete categories."
   ]
  },
  {
   "cell_type": "markdown",
   "id": "94458661",
   "metadata": {},
   "source": [
    "Let's bin the loan amount variable into small, medium, high, very high."
   ]
  },
  {
   "cell_type": "code",
   "execution_count": 36,
   "id": "9418c753",
   "metadata": {},
   "outputs": [],
   "source": [
    "# binning loan amount\n",
    "def loan_amount(n):\n",
    "    if n < 5000:\n",
    "        return 'low'\n",
    "    elif n >=5000 and n < 15000:\n",
    "        return 'medium'\n",
    "    elif n >= 15000 and n < 25000:\n",
    "        return 'high'\n",
    "    else:\n",
    "        return 'very high'\n",
    "        \n",
    "df_cleaned['loan_amnt'] = df_cleaned['loan_amnt'].apply(lambda x: loan_amount(x))\n"
   ]
  },
  {
   "cell_type": "code",
   "execution_count": 37,
   "id": "c79efe70",
   "metadata": {},
   "outputs": [],
   "source": [
    "# lets define a function to plot loan_status across categorical variables\n",
    "def plot_cat(cat_var):\n",
    "    sns.barplot(x=cat_var, y='loan_status_numeric', data=df_cleaned)\n",
    "    plt.show()"
   ]
  },
  {
   "cell_type": "code",
   "execution_count": 40,
   "id": "fe334e02",
   "metadata": {},
   "outputs": [
    {
     "data": {
      "image/png": "[encoded data removed]",
      "text/plain": [
       "<Figure size 432x288 with 1 Axes>"
      ]
     },
     "metadata": {
      "needs_background": "light"
     },
     "output_type": "display_data"
    }
   ],
   "source": [
    "# let's compare the default rates across loan amount type\n",
    "# higher the loan amount, higher the default rate\n",
    "plot_cat('loan_amnt')"
   ]
  },
  {
   "cell_type": "code",
   "execution_count": 42,
   "id": "a509b785",
   "metadata": {},
   "outputs": [
    {
     "data": {
      "text/plain": [
       "loan_status  loan_amnt\n",
       "Charged Off  high          1274\n",
       "             low            945\n",
       "             medium        2617\n",
       "             very high      563\n",
       "Fully Paid   high          6298\n",
       "             low           6150\n",
       "             medium       17540\n",
       "             very high     2157\n",
       "dtype: int64"
      ]
     },
     "execution_count": 42,
     "metadata": {},
     "output_type": "execute_result"
    }
   ],
   "source": [
    "df_cleaned.groupby(['loan_status','loan_amnt']).size()"
   ]
  },
  {
   "cell_type": "code",
   "execution_count": 43,
   "id": "b29b68a0",
   "metadata": {},
   "outputs": [
    {
     "data": {
      "image/png": "[encoded data removed]",
      "text/plain": [
       "<Figure size 432x288 with 1 Axes>"
      ]
     },
     "metadata": {
      "needs_background": "light"
     },
     "output_type": "display_data"
    }
   ],
   "source": [
    "sns.countplot(data=df_cleaned, x=\"loan_status\", hue=\"loan_amnt\")\n",
    "plt.title(\"Loan Status Distribution by loan amount categories\")\n",
    "plt.show()"
   ]
  },
  {
   "attachments": {},
   "cell_type": "markdown",
   "id": "44c78407",
   "metadata": {},
   "source": [
    "Conclusion:Most frequency of defaulting has been identified for loan amount category 'Medium'."
   ]
  },
  {
   "cell_type": "code",
   "execution_count": 29,
   "id": "22078824",
   "metadata": {},
   "outputs": [],
   "source": [
    "# funded amount  in bins\n",
    "def funded_amount(n):\n",
    "    if n <= 5000:\n",
    "        return 'low'\n",
    "    elif n > 5000 and n <=15000:\n",
    "        return 'medium'\n",
    "    else:\n",
    "        return 'high'\n",
    "    \n",
    "df_cleaned['funded_amnt'] = df_cleaned['funded_amnt'].apply(lambda x: funded_amount(x))"
   ]
  },
  {
   "cell_type": "code",
   "execution_count": 30,
   "id": "d90dc47b",
   "metadata": {},
   "outputs": [
    {
     "data": {
      "image/png": "[encoded data removed]",
      "text/plain": [
       "<Figure size 432x288 with 1 Axes>"
      ]
     },
     "metadata": {
      "needs_background": "light"
     },
     "output_type": "display_data"
    }
   ],
   "source": [
    "# higher the funded amount, higher the default rate\n",
    "plot_cat('funded_amnt')"
   ]
  },
  {
   "cell_type": "code",
   "execution_count": 45,
   "id": "5176acb0",
   "metadata": {},
   "outputs": [
    {
     "data": {
      "image/png": "[encoded data removed]",
      "text/plain": [
       "<Figure size 432x288 with 1 Axes>"
      ]
     },
     "metadata": {
      "needs_background": "light"
     },
     "output_type": "display_data"
    }
   ],
   "source": [
    "sns.countplot(data=df_cleaned, x=\"loan_status\", hue=\"loan_amnt\")\n",
    "plt.title(\"Funded Amount Distribution by loan amount categories\")\n",
    "plt.show()"
   ]
  },
  {
   "attachments": {},
   "cell_type": "markdown",
   "id": "4dc026f0",
   "metadata": {},
   "source": [
    "Highest frequency of defaulting has been identified for category 'Medium'(Range: 5000 - 15000)"
   ]
  },
  {
   "cell_type": "code",
   "execution_count": 46,
   "id": "f92f6b7b",
   "metadata": {},
   "outputs": [],
   "source": [
    "# lets also convert interest rate to low, medium, high\n",
    "\n",
    "def int_rate(n):\n",
    "    if n <= 10:\n",
    "        return 'low'\n",
    "    elif n > 10 and n <=15:\n",
    "        return 'medium'\n",
    "    else:\n",
    "        return 'high'\n",
    "    \n",
    "    \n",
    "df_cleaned['int_rate'] = df_cleaned['int_rate'].apply(lambda x: int_rate(x))"
   ]
  },
  {
   "cell_type": "code",
   "execution_count": 32,
   "id": "902fd48d",
   "metadata": {},
   "outputs": [
    {
     "data": {
      "image/png": "[encoded data removed]",
      "text/plain": [
       "<Figure size 432x288 with 1 Axes>"
      ]
     },
     "metadata": {
      "needs_background": "light"
     },
     "output_type": "display_data"
    }
   ],
   "source": [
    "# comparing default rates across rates of interest\n",
    "# high interest rates default more, as expected\n",
    "plot_cat('int_rate')"
   ]
  },
  {
   "cell_type": "code",
   "execution_count": 47,
   "id": "482d5f92",
   "metadata": {},
   "outputs": [
    {
     "data": {
      "image/png": "[encoded data removed]",
      "text/plain": [
       "<Figure size 432x288 with 1 Axes>"
      ]
     },
     "metadata": {
      "needs_background": "light"
     },
     "output_type": "display_data"
    }
   ],
   "source": [
    "sns.countplot(data=df_cleaned, x=\"loan_status\", hue=\"int_rate\")\n",
    "plt.title(\"Loan Status Distribution by Interest Rate categories\")\n",
    "plt.show()\n"
   ]
  },
  {
   "cell_type": "markdown",
   "id": "630918b0",
   "metadata": {},
   "source": [
    "Highest frequency of defaulting has been identified for category 'Medium'(Range: 10-15)"
   ]
  },
  {
   "cell_type": "code",
   "execution_count": 48,
   "id": "4a942b90",
   "metadata": {},
   "outputs": [],
   "source": [
    "# debt to income ratio\n",
    "def dti(n):\n",
    "    if n <= 10:\n",
    "        return 'low'\n",
    "    elif n > 10 and n <=20:\n",
    "        return 'medium'\n",
    "    else:\n",
    "        return 'high'\n",
    "    \n",
    "\n",
    "df_cleaned['dti'] = df_cleaned['dti'].apply(lambda x: dti(x))"
   ]
  },
  {
   "cell_type": "code",
   "execution_count": 49,
   "id": "5ea2fdb1",
   "metadata": {},
   "outputs": [
    {
     "data": {
      "image/png": "[encoded data removed]",
      "text/plain": [
       "<Figure size 432x288 with 1 Axes>"
      ]
     },
     "metadata": {
      "needs_background": "light"
     },
     "output_type": "display_data"
    }
   ],
   "source": [
    "# comparing default rates across debt to income ratio\n",
    "# high dti translates into higher default rates, as expected\n",
    "plot_cat('dti')"
   ]
  },
  {
   "cell_type": "code",
   "execution_count": 50,
   "id": "5922bf1b",
   "metadata": {},
   "outputs": [
    {
     "data": {
      "image/png": "[encoded data removed]",
      "text/plain": [
       "<Figure size 432x288 with 1 Axes>"
      ]
     },
     "metadata": {
      "needs_background": "light"
     },
     "output_type": "display_data"
    }
   ],
   "source": [
    "sns.countplot(data=df_cleaned, x=\"loan_status\", hue=\"dti\")\n",
    "plt.title(\"Loan Status Distribution by DTI categories\")\n",
    "plt.show()"
   ]
  },
  {
   "attachments": {},
   "cell_type": "markdown",
   "id": "6cdc4702",
   "metadata": {},
   "source": [
    "Highest frequency of defaulting has been identified for category 'Medium'(Range: 10-20)"
   ]
  },
  {
   "cell_type": "code",
   "execution_count": 51,
   "id": "2987e320",
   "metadata": {},
   "outputs": [],
   "source": [
    "# installment\n",
    "def installment(n):\n",
    "    if n <= 200:\n",
    "        return 'low'\n",
    "    elif n > 200 and n <=400:\n",
    "        return 'medium'\n",
    "    elif n > 400 and n <=600:\n",
    "        return 'high'\n",
    "    else:\n",
    "        return 'very high'\n",
    "    \n",
    "df_cleaned['installment'] = df_cleaned['installment'].apply(lambda x: installment(x))"
   ]
  },
  {
   "cell_type": "code",
   "execution_count": 52,
   "id": "8bb5ef9b",
   "metadata": {},
   "outputs": [
    {
     "data": {
      "image/png": "[encoded data removed]",
      "text/plain": [
       "<Figure size 432x288 with 1 Axes>"
      ]
     },
     "metadata": {
      "needs_background": "light"
     },
     "output_type": "display_data"
    }
   ],
   "source": [
    "# comparing default rates across installment\n",
    "# the higher the installment amount, the higher the default rate\n",
    "plot_cat('installment')"
   ]
  },
  {
   "cell_type": "code",
   "execution_count": 53,
   "id": "a229ea73",
   "metadata": {},
   "outputs": [
    {
     "data": {
      "image/png": "[encoded data removed]",
      "text/plain": [
       "<Figure size 432x288 with 1 Axes>"
      ]
     },
     "metadata": {
      "needs_background": "light"
     },
     "output_type": "display_data"
    }
   ],
   "source": [
    "sns.countplot(data=df_cleaned, x=\"loan_status\", hue=\"installment\")\n",
    "plt.title(\"Loan Status Distribution by installment categories\")\n",
    "plt.show()"
   ]
  },
  {
   "attachments": {},
   "cell_type": "markdown",
   "id": "3f681a04",
   "metadata": {},
   "source": [
    "Highest frequency of defaulting has been identified for category 'Medium'(Range: 200-400)"
   ]
  },
  {
   "cell_type": "code",
   "execution_count": 54,
   "id": "d688e7f2",
   "metadata": {},
   "outputs": [],
   "source": [
    "# annual income\n",
    "def annual_income(n):\n",
    "    if n <= 50000:\n",
    "        return 'low'\n",
    "    elif n > 50000 and n <=100000:\n",
    "        return 'medium'\n",
    "    elif n > 100000 and n <=150000:\n",
    "        return 'high'\n",
    "    else:\n",
    "        return 'very high'\n",
    "\n",
    "df_cleaned['annual_inc'] = df_cleaned['annual_inc'].apply(lambda x: annual_income(x))"
   ]
  },
  {
   "cell_type": "code",
   "execution_count": 57,
   "id": "4bd09179",
   "metadata": {},
   "outputs": [
    {
     "data": {
      "image/png": "[encoded data removed]",
      "text/plain": [
       "<Figure size 432x288 with 1 Axes>"
      ]
     },
     "metadata": {
      "needs_background": "light"
     },
     "output_type": "display_data"
    }
   ],
   "source": [
    "# annual income and default rate\n",
    "# lower the annual income, higher the default rate\n",
    "plot_cat('annual_inc')"
   ]
  },
  {
   "cell_type": "code",
   "execution_count": 56,
   "id": "75d815b5",
   "metadata": {},
   "outputs": [
    {
     "data": {
      "image/png": "[encoded data removed]",
      "text/plain": [
       "<Figure size 432x288 with 1 Axes>"
      ]
     },
     "metadata": {
      "needs_background": "light"
     },
     "output_type": "display_data"
    }
   ],
   "source": [
    "sns.countplot(data=df_cleaned, x=\"loan_status\", hue=\"annual_inc\")\n",
    "plt.title(\"Loan Status Distribution by Annual income categories\")\n",
    "plt.show()"
   ]
  },
  {
   "attachments": {},
   "cell_type": "markdown",
   "id": "dd5c9b9c",
   "metadata": {},
   "source": [
    "Highest frequency of defaulting has been identified for category ‘low '(Range: <= 50000) and 'Medium'(Range: 50000 -100000)"
   ]
  },
  {
   "cell_type": "code",
   "execution_count": 59,
   "id": "b8e745d1",
   "metadata": {},
   "outputs": [],
   "source": [
    "# employment length\n",
    "# first, let's drop the missing value observations in emp length\n",
    "df_cleaned = df_cleaned[~df_cleaned['emp_length'].isnull()]\n",
    "\n",
    "# binning the variable\n",
    "def emp_length(n):\n",
    "    if n <= 1:\n",
    "        return 'fresher'\n",
    "    elif n > 1 and n <=3:\n",
    "        return 'junior'\n",
    "    elif n > 3 and n <=7:\n",
    "        return 'senior'\n",
    "    else:\n",
    "        return 'expert'\n",
    "\n",
    "df_cleaned['emp_length'] = df_cleaned['emp_length'].apply(lambda x: emp_length(x))"
   ]
  },
  {
   "cell_type": "code",
   "execution_count": 60,
   "id": "ebb2ab00",
   "metadata": {},
   "outputs": [
    {
     "data": {
      "image/png": "[encoded data removed]",
      "text/plain": [
       "<Figure size 432x288 with 1 Axes>"
      ]
     },
     "metadata": {
      "needs_background": "light"
     },
     "output_type": "display_data"
    }
   ],
   "source": [
    "# emp_length and default rate\n",
    "# not much of a predictor of default\n",
    "plot_cat('emp_length')"
   ]
  },
  {
   "cell_type": "code",
   "execution_count": 61,
   "id": "46c54dea",
   "metadata": {},
   "outputs": [
    {
     "data": {
      "image/png": "[encoded data removed]",
      "text/plain": [
       "<Figure size 432x288 with 1 Axes>"
      ]
     },
     "metadata": {
      "needs_background": "light"
     },
     "output_type": "display_data"
    }
   ],
   "source": [
    "sns.countplot(data=df_cleaned, x=\"loan_status\", hue=\"emp_length\")\n",
    "plt.title(\"Loan Status Distribution by Employment length categories\")\n",
    "plt.show()"
   ]
  },
  {
   "cell_type": "markdown",
   "id": "cabc500d",
   "metadata": {},
   "source": [
    "Highest frequency of defaulting has been identified for expert category(>7 years of expr ) followed by seniors(3-7 years of expr )"
   ]
  },
  {
   "cell_type": "markdown",
   "id": "84bc1f14",
   "metadata": {},
   "source": [
    "# 3.3.2.Categorical variables"
   ]
  },
  {
   "cell_type": "markdown",
   "id": "05903cf1",
   "metadata": {},
   "source": [
    "We have now compared the default rates across various variables, and some of the important predictors are purpose of the loan, interest rate, annual income, grade etc.\n",
    "\n",
    "In the credit industry, one of the most important factors affecting default is the purpose of the loan - home loans perform differently than credit cards, credit cards are very different from debt condolidation loans etc.\n",
    "\n",
    "This comes from business understanding, though let's again have a look at the default rates across the purpose of the loan."
   ]
  },
  {
   "cell_type": "code",
   "execution_count": 81,
   "id": "3bdf5386",
   "metadata": {
    "scrolled": true
   },
   "outputs": [
    {
     "data": {
      "image/png": "[encoded data removed]",
      "text/plain": [
       "<Figure size 432x288 with 1 Axes>"
      ]
     },
     "metadata": {
      "needs_background": "light"
     },
     "output_type": "display_data"
    }
   ],
   "source": [
    "# lets first look at the number of loans for each type (purpose) of the loan\n",
    "# most loans are debt consolidation (to repay otehr debts), then credit card, major purchase etc.\n",
    "#plt.figure(figsize=(7, 5))\n",
    "sns.countplot(x='purpose', data=df_cleaned)\n",
    "plt.xticks(rotation=90)\n",
    "plt.show()"
   ]
  },
  {
   "cell_type": "code",
   "execution_count": 74,
   "id": "7b1d6da1",
   "metadata": {},
   "outputs": [
    {
     "data": {
      "text/plain": [
       "purpose\n",
       "debt_consolidation    17675\n",
       "credit_card            4899\n",
       "home_improvement       2785\n",
       "major_purchase         2080\n",
       "Name: count, dtype: int64"
      ]
     },
     "execution_count": 74,
     "metadata": {},
     "output_type": "execute_result"
    }
   ],
   "source": [
    "# filtering the df for the 4 types of loans mentioned above\n",
    "main_purposes = [\"credit_card\",\"debt_consolidation\",\"home_improvement\",\"major_purchase\"]\n",
    "df_purpose_segment = df_cleaned[df_cleaned['purpose'].isin(main_purposes)]\n",
    "df_purpose_segment['purpose'].value_counts()"
   ]
  },
  {
   "cell_type": "code",
   "execution_count": 63,
   "id": "42b1b504",
   "metadata": {},
   "outputs": [],
   "source": [
    "def plot_segmented(cat_var):\n",
    "    plt.figure(figsize=(10, 6))\n",
    "    sns.barplot(x=cat_var, y='loan_status_numeric', hue='purpose', data=df_purpose_segment)\n",
    "    plt.show()"
   ]
  },
  {
   "cell_type": "code",
   "execution_count": 361,
   "id": "f0d4d6ff",
   "metadata": {},
   "outputs": [
    {
     "data": {
      "text/html": [
       "<div>\n",
       "<style scoped>\n",
       "    .dataframe tbody tr th:only-of-type {\n",
       "        vertical-align: middle;\n",
       "    }\n",
       "\n",
       "    .dataframe tbody tr th {\n",
       "        vertical-align: top;\n",
       "    }\n",
       "\n",
       "    .dataframe thead th {\n",
       "        text-align: right;\n",
       "    }\n",
       "</style>\n",
       "<table border=\"1\" class=\"dataframe\">\n",
       "  <thead>\n",
       "    <tr style=\"text-align: right;\">\n",
       "      <th></th>\n",
       "      <th>loan_amnt</th>\n",
       "      <th>funded_amnt</th>\n",
       "      <th>funded_amnt_inv</th>\n",
       "      <th>term</th>\n",
       "      <th>int_rate</th>\n",
       "      <th>installment</th>\n",
       "      <th>grade</th>\n",
       "      <th>sub_grade</th>\n",
       "      <th>emp_length</th>\n",
       "      <th>home_ownership</th>\n",
       "      <th>annual_inc</th>\n",
       "      <th>verification_status</th>\n",
       "      <th>issue_d</th>\n",
       "      <th>loan_status</th>\n",
       "      <th>purpose</th>\n",
       "      <th>addr_state</th>\n",
       "      <th>dti</th>\n",
       "      <th>pub_rec_bankruptcies</th>\n",
       "      <th>loan_status_numeric</th>\n",
       "    </tr>\n",
       "  </thead>\n",
       "  <tbody>\n",
       "    <tr>\n",
       "      <th>0</th>\n",
       "      <td>5000</td>\n",
       "      <td>5000</td>\n",
       "      <td>4975.0</td>\n",
       "      <td>36</td>\n",
       "      <td>10.65</td>\n",
       "      <td>162.87</td>\n",
       "      <td>B</td>\n",
       "      <td>B2</td>\n",
       "      <td>10</td>\n",
       "      <td>RENT</td>\n",
       "      <td>24000.0</td>\n",
       "      <td>Verified</td>\n",
       "      <td>Dec-11</td>\n",
       "      <td>Fully Paid</td>\n",
       "      <td>credit_card</td>\n",
       "      <td>AZ</td>\n",
       "      <td>27.65</td>\n",
       "      <td>0.0</td>\n",
       "      <td>0</td>\n",
       "    </tr>\n",
       "    <tr>\n",
       "      <th>6</th>\n",
       "      <td>7000</td>\n",
       "      <td>7000</td>\n",
       "      <td>7000.0</td>\n",
       "      <td>60</td>\n",
       "      <td>15.96</td>\n",
       "      <td>170.08</td>\n",
       "      <td>C</td>\n",
       "      <td>C5</td>\n",
       "      <td>8</td>\n",
       "      <td>RENT</td>\n",
       "      <td>47004.0</td>\n",
       "      <td>Not Verified</td>\n",
       "      <td>Dec-11</td>\n",
       "      <td>Fully Paid</td>\n",
       "      <td>debt_consolidation</td>\n",
       "      <td>NC</td>\n",
       "      <td>23.51</td>\n",
       "      <td>0.0</td>\n",
       "      <td>0</td>\n",
       "    </tr>\n",
       "    <tr>\n",
       "      <th>10</th>\n",
       "      <td>6500</td>\n",
       "      <td>6500</td>\n",
       "      <td>6500.0</td>\n",
       "      <td>60</td>\n",
       "      <td>14.65</td>\n",
       "      <td>153.45</td>\n",
       "      <td>C</td>\n",
       "      <td>C3</td>\n",
       "      <td>5</td>\n",
       "      <td>OWN</td>\n",
       "      <td>72000.0</td>\n",
       "      <td>Not Verified</td>\n",
       "      <td>Dec-11</td>\n",
       "      <td>Fully Paid</td>\n",
       "      <td>debt_consolidation</td>\n",
       "      <td>AZ</td>\n",
       "      <td>16.12</td>\n",
       "      <td>0.0</td>\n",
       "      <td>0</td>\n",
       "    </tr>\n",
       "    <tr>\n",
       "      <th>11</th>\n",
       "      <td>12000</td>\n",
       "      <td>12000</td>\n",
       "      <td>12000.0</td>\n",
       "      <td>36</td>\n",
       "      <td>12.69</td>\n",
       "      <td>402.54</td>\n",
       "      <td>B</td>\n",
       "      <td>B5</td>\n",
       "      <td>10</td>\n",
       "      <td>OWN</td>\n",
       "      <td>75000.0</td>\n",
       "      <td>Source Verified</td>\n",
       "      <td>Dec-11</td>\n",
       "      <td>Fully Paid</td>\n",
       "      <td>debt_consolidation</td>\n",
       "      <td>CA</td>\n",
       "      <td>10.78</td>\n",
       "      <td>0.0</td>\n",
       "      <td>0</td>\n",
       "    </tr>\n",
       "    <tr>\n",
       "      <th>12</th>\n",
       "      <td>9000</td>\n",
       "      <td>9000</td>\n",
       "      <td>9000.0</td>\n",
       "      <td>36</td>\n",
       "      <td>13.49</td>\n",
       "      <td>305.38</td>\n",
       "      <td>C</td>\n",
       "      <td>C1</td>\n",
       "      <td>1</td>\n",
       "      <td>RENT</td>\n",
       "      <td>30000.0</td>\n",
       "      <td>Source Verified</td>\n",
       "      <td>Dec-11</td>\n",
       "      <td>Charged Off</td>\n",
       "      <td>debt_consolidation</td>\n",
       "      <td>VA</td>\n",
       "      <td>10.08</td>\n",
       "      <td>0.0</td>\n",
       "      <td>1</td>\n",
       "    </tr>\n",
       "  </tbody>\n",
       "</table>\n",
       "</div>"
      ],
      "text/plain": [
       "    loan_amnt  funded_amnt  funded_amnt_inv  term  int_rate  installment  \\\n",
       "0        5000         5000           4975.0    36     10.65       162.87   \n",
       "6        7000         7000           7000.0    60     15.96       170.08   \n",
       "10       6500         6500           6500.0    60     14.65       153.45   \n",
       "11      12000        12000          12000.0    36     12.69       402.54   \n",
       "12       9000         9000           9000.0    36     13.49       305.38   \n",
       "\n",
       "   grade sub_grade  emp_length home_ownership  annual_inc verification_status  \\\n",
       "0      B        B2          10           RENT     24000.0            Verified   \n",
       "6      C        C5           8           RENT     47004.0        Not Verified   \n",
       "10     C        C3           5            OWN     72000.0        Not Verified   \n",
       "11     B        B5          10            OWN     75000.0     Source Verified   \n",
       "12     C        C1           1           RENT     30000.0     Source Verified   \n",
       "\n",
       "   issue_d  loan_status             purpose addr_state    dti  \\\n",
       "0   Dec-11   Fully Paid         credit_card         AZ  27.65   \n",
       "6   Dec-11   Fully Paid  debt_consolidation         NC  23.51   \n",
       "10  Dec-11   Fully Paid  debt_consolidation         AZ  16.12   \n",
       "11  Dec-11   Fully Paid  debt_consolidation         CA  10.78   \n",
       "12  Dec-11  Charged Off  debt_consolidation         VA  10.08   \n",
       "\n",
       "    pub_rec_bankruptcies  loan_status_numeric  \n",
       "0                    0.0                    0  \n",
       "6                    0.0                    0  \n",
       "10                   0.0                    0  \n",
       "11                   0.0                    0  \n",
       "12                   0.0                    1  "
      ]
     },
     "execution_count": 361,
     "metadata": {},
     "output_type": "execute_result"
    }
   ],
   "source": [
    "df_purpose_segment.head()"
   ]
  },
  {
   "cell_type": "code",
   "execution_count": 64,
   "id": "5b73418a",
   "metadata": {},
   "outputs": [
    {
     "data": {
      "image/png": "[encoded data removed]",
      "text/plain": [
       "<Figure size 720x432 with 1 Axes>"
      ]
     },
     "metadata": {
      "needs_background": "light"
     },
     "output_type": "display_data"
    }
   ],
   "source": [
    "# let's now compare the default rates across two types of categorical variables\n",
    "# purpose of loan (constant) and another categorical variable (which changes)\n",
    "\n",
    "plot_segmented('term')\n"
   ]
  },
  {
   "cell_type": "markdown",
   "id": "17741c42",
   "metadata": {},
   "source": [
    "Higher the Term higher the defaulting rate. Majority of defaulting falls under debt_consolidation category"
   ]
  },
  {
   "cell_type": "code",
   "execution_count": 66,
   "id": "1bbb47a3",
   "metadata": {},
   "outputs": [
    {
     "data": {
      "image/png": "[encoded data removed]",
      "text/plain": [
       "<Figure size 720x432 with 1 Axes>"
      ]
     },
     "metadata": {
      "needs_background": "light"
     },
     "output_type": "display_data"
    }
   ],
   "source": [
    "# grade of loan\n",
    "plot_segmented('grade')"
   ]
  },
  {
   "attachments": {},
   "cell_type": "markdown",
   "id": "d103f8e1",
   "metadata": {},
   "source": [
    "Highest defaulting falls under debt_consolidation category other than B and C"
   ]
  },
  {
   "cell_type": "code",
   "execution_count": 67,
   "id": "34494de2",
   "metadata": {},
   "outputs": [
    {
     "data": {
      "image/png": "[encoded data removed]",
      "text/plain": [
       "<Figure size 720x432 with 1 Axes>"
      ]
     },
     "metadata": {
      "needs_background": "light"
     },
     "output_type": "display_data"
    }
   ],
   "source": [
    "# home ownership\n",
    "plot_segmented('home_ownership')"
   ]
  },
  {
   "cell_type": "markdown",
   "id": "15eae447",
   "metadata": {},
   "source": [
    "In general, debt consolidation loans have the highest default rates. Lets compare across other categories as well"
   ]
  },
  {
   "cell_type": "code",
   "execution_count": 68,
   "id": "c3738c6a",
   "metadata": {},
   "outputs": [
    {
     "data": {
      "image/png": "[encoded data removed]",
      "text/plain": [
       "<Figure size 720x432 with 1 Axes>"
      ]
     },
     "metadata": {
      "needs_background": "light"
     },
     "output_type": "display_data"
    }
   ],
   "source": [
    "# verification_status comparison\n",
    "plot_segmented('verification_status')"
   ]
  },
  {
   "cell_type": "code",
   "execution_count": 75,
   "id": "7c9d0ca6",
   "metadata": {},
   "outputs": [
    {
     "data": {
      "image/png": "[encoded data removed]",
      "text/plain": [
       "<Figure size 720x432 with 1 Axes>"
      ]
     },
     "metadata": {
      "needs_background": "light"
     },
     "output_type": "display_data"
    }
   ],
   "source": [
    "# year\n",
    "plot_segmented('year')"
   ]
  },
  {
   "cell_type": "markdown",
   "id": "c211870a",
   "metadata": {},
   "source": [
    "As we move from 2007 to 2011, debt consolidation loans have the highest default rates. \n"
   ]
  }
 ],
 "metadata": {
  "kernelspec": {
   "display_name": "Python 3 (ipykernel)",
   "language": "python",
   "name": "python3"
  },
  "language_info": {
   "codemirror_mode": {
    "name": "ipython",
    "version": 3
   },
   "file_extension": ".py",
   "mimetype": "text/x-python",
   "name": "python",
   "nbconvert_exporter": "python",
   "pygments_lexer": "ipython3",
   "version": "3.10.5"
  }
 },
 "nbformat": 4,
 "nbformat_minor": 5
}
